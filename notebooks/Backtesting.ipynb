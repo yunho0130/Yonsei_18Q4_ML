{
 "cells": [
  {
   "cell_type": "code",
   "execution_count": 1,
   "metadata": {},
   "outputs": [
    {
     "data": {
      "text/plain": [
       "'/home/hyunny88/projects/auto-trading'"
      ]
     },
     "execution_count": 1,
     "metadata": {},
     "output_type": "execute_result"
    }
   ],
   "source": [
    "import sys\n",
    "import os\n",
    "import pandas as pd\n",
    "\n",
    "sys.path.insert(0,'/home/hyunny88/projects/auto-trading/')\n",
    "os.chdir('/home/hyunny88/projects/auto-trading/')\n",
    "os.path.abspath(os.curdir)"
   ]
  },
  {
   "cell_type": "code",
   "execution_count": 2,
   "metadata": {},
   "outputs": [
    {
     "data": {
      "text/plain": [
       "<matplotlib.axes._subplots.AxesSubplot at 0x7fba080b4438>"
      ]
     },
     "execution_count": 2,
     "metadata": {},
     "output_type": "execute_result"
    }
   ],
   "source": [
    "from autotrading.db.mongodb import mongodb_handler\n",
    "mongodb = mongodb_handler.MongoDBHandler(\"remote\", \"coiner\", \"price_info\")\n",
    "\n",
    "result = mongodb.find_items({\"coin\":\"etc_krw\",\"year\":2018,\"month\":1})\n",
    "\n",
    "df = pd.DataFrame(list(result), columns=[\"timestamp\", \"coin\", \"amount\", \"year\", \"month\", \"day\", \"price\",\"hour\",\"minute\",\"second\"])\n",
    "df['timestamp'] = df['timestamp'].astype(int)\n",
    "df['amount'] = df['amount'].astype(float)\n",
    "df['price'] = df['price'].astype(float)\n",
    "df.groupby('day').mean()['price'].plot()"
   ]
  },
  {
   "cell_type": "code",
   "execution_count": 3,
   "metadata": {},
   "outputs": [],
   "source": [
    "df = df.set_index(pd.DatetimeIndex(pd.to_datetime(df['timestamp'], unit='s')))#.tz_localize('UTC')).tz_convert('Asia/Seoul')"
   ]
  },
  {
   "cell_type": "code",
   "execution_count": 4,
   "metadata": {},
   "outputs": [],
   "source": [
    "df = df.drop_duplicates(subset='day', keep='last')"
   ]
  },
  {
   "cell_type": "code",
   "execution_count": 5,
   "metadata": {},
   "outputs": [],
   "source": [
    "df = df.set_index(pd.DatetimeIndex(df.index.date))"
   ]
  },
  {
   "cell_type": "code",
   "execution_count": 6,
   "metadata": {},
   "outputs": [],
   "source": [
    "import matplotlib.pyplot as plt\n",
    "from zipline.api import order, symbol, record\n",
    "from zipline.algorithm import TradingAlgorithm\n",
    "\n",
    "# data\n",
    "#start = datetime.datetime(2018, 1, 1)\n",
    "#end = datetime.datetime(2018, 1, 30)\n",
    "data = df \n",
    "data = data.tz_localize(\"UTC\")\n",
    "data = data[['price']]\n"
   ]
  },
  {
   "cell_type": "code",
   "execution_count": 7,
   "metadata": {},
   "outputs": [],
   "source": [
    "def initialize(context):\n",
    "    pass\n",
    "\n",
    "def handle_data(context, data):\n",
    "    order(symbol('price'), 1)\n",
    "\n",
    "algo = TradingAlgorithm(initialize=initialize, handle_data=handle_data)\n",
    "result = algo.run(data)"
   ]
  },
  {
   "cell_type": "code",
   "execution_count": 8,
   "metadata": {},
   "outputs": [
    {
     "data": {
      "text/html": [
       "<div>\n",
       "<table border=\"1\" class=\"dataframe\">\n",
       "  <thead>\n",
       "    <tr style=\"text-align: right;\">\n",
       "      <th></th>\n",
       "      <th>starting_cash</th>\n",
       "      <th>ending_cash</th>\n",
       "      <th>ending_value</th>\n",
       "    </tr>\n",
       "  </thead>\n",
       "  <tbody>\n",
       "    <tr>\n",
       "      <th>2018-01-02 21:00:00+00:00</th>\n",
       "      <td>100000.0</td>\n",
       "      <td>100000.0</td>\n",
       "      <td>0.0</td>\n",
       "    </tr>\n",
       "    <tr>\n",
       "      <th>2018-01-03 21:00:00+00:00</th>\n",
       "      <td>100000.0</td>\n",
       "      <td>57499.0</td>\n",
       "      <td>42500.0</td>\n",
       "    </tr>\n",
       "    <tr>\n",
       "      <th>2018-01-04 21:00:00+00:00</th>\n",
       "      <td>57499.0</td>\n",
       "      <td>9988.0</td>\n",
       "      <td>95020.0</td>\n",
       "    </tr>\n",
       "    <tr>\n",
       "      <th>2018-01-05 21:00:00+00:00</th>\n",
       "      <td>9988.0</td>\n",
       "      <td>-41103.0</td>\n",
       "      <td>153270.0</td>\n",
       "    </tr>\n",
       "    <tr>\n",
       "      <th>2018-01-08 21:00:00+00:00</th>\n",
       "      <td>-41103.0</td>\n",
       "      <td>-88304.0</td>\n",
       "      <td>188800.0</td>\n",
       "    </tr>\n",
       "    <tr>\n",
       "      <th>2018-01-09 21:00:00+00:00</th>\n",
       "      <td>-88304.0</td>\n",
       "      <td>-140555.0</td>\n",
       "      <td>261250.0</td>\n",
       "    </tr>\n",
       "    <tr>\n",
       "      <th>2018-01-10 21:00:00+00:00</th>\n",
       "      <td>-140555.0</td>\n",
       "      <td>-196936.0</td>\n",
       "      <td>338280.0</td>\n",
       "    </tr>\n",
       "    <tr>\n",
       "      <th>2018-01-11 21:00:00+00:00</th>\n",
       "      <td>-196936.0</td>\n",
       "      <td>-245337.0</td>\n",
       "      <td>338800.0</td>\n",
       "    </tr>\n",
       "    <tr>\n",
       "      <th>2018-01-12 21:00:00+00:00</th>\n",
       "      <td>-245337.0</td>\n",
       "      <td>-294818.0</td>\n",
       "      <td>395840.0</td>\n",
       "    </tr>\n",
       "    <tr>\n",
       "      <th>2018-01-16 21:00:00+00:00</th>\n",
       "      <td>-294818.0</td>\n",
       "      <td>-337829.0</td>\n",
       "      <td>387090.0</td>\n",
       "    </tr>\n",
       "    <tr>\n",
       "      <th>2018-01-17 21:00:00+00:00</th>\n",
       "      <td>-337829.0</td>\n",
       "      <td>-366830.0</td>\n",
       "      <td>290000.0</td>\n",
       "    </tr>\n",
       "    <tr>\n",
       "      <th>2018-01-18 21:00:00+00:00</th>\n",
       "      <td>-366830.0</td>\n",
       "      <td>-406631.0</td>\n",
       "      <td>437800.0</td>\n",
       "    </tr>\n",
       "    <tr>\n",
       "      <th>2018-01-19 21:00:00+00:00</th>\n",
       "      <td>-406631.0</td>\n",
       "      <td>-448032.0</td>\n",
       "      <td>496800.0</td>\n",
       "    </tr>\n",
       "    <tr>\n",
       "      <th>2018-01-22 21:00:00+00:00</th>\n",
       "      <td>-448032.0</td>\n",
       "      <td>-483343.0</td>\n",
       "      <td>459030.0</td>\n",
       "    </tr>\n",
       "    <tr>\n",
       "      <th>2018-01-23 21:00:00+00:00</th>\n",
       "      <td>-483343.0</td>\n",
       "      <td>-517294.0</td>\n",
       "      <td>475300.0</td>\n",
       "    </tr>\n",
       "    <tr>\n",
       "      <th>2018-01-24 21:00:00+00:00</th>\n",
       "      <td>-517294.0</td>\n",
       "      <td>-552265.0</td>\n",
       "      <td>524550.0</td>\n",
       "    </tr>\n",
       "    <tr>\n",
       "      <th>2018-01-25 21:00:00+00:00</th>\n",
       "      <td>-552265.0</td>\n",
       "      <td>-585736.0</td>\n",
       "      <td>535520.0</td>\n",
       "    </tr>\n",
       "    <tr>\n",
       "      <th>2018-01-26 21:00:00+00:00</th>\n",
       "      <td>-585736.0</td>\n",
       "      <td>-618207.0</td>\n",
       "      <td>551990.0</td>\n",
       "    </tr>\n",
       "    <tr>\n",
       "      <th>2018-01-29 21:00:00+00:00</th>\n",
       "      <td>-618207.0</td>\n",
       "      <td>-654018.0</td>\n",
       "      <td>644580.0</td>\n",
       "    </tr>\n",
       "    <tr>\n",
       "      <th>2018-01-30 21:00:00+00:00</th>\n",
       "      <td>-654018.0</td>\n",
       "      <td>-687249.0</td>\n",
       "      <td>631370.0</td>\n",
       "    </tr>\n",
       "    <tr>\n",
       "      <th>2018-01-31 21:00:00+00:00</th>\n",
       "      <td>-687249.0</td>\n",
       "      <td>-717250.0</td>\n",
       "      <td>600000.0</td>\n",
       "    </tr>\n",
       "  </tbody>\n",
       "</table>\n",
       "</div>"
      ],
      "text/plain": [
       "                           starting_cash  ending_cash  ending_value\n",
       "2018-01-02 21:00:00+00:00       100000.0     100000.0           0.0\n",
       "2018-01-03 21:00:00+00:00       100000.0      57499.0       42500.0\n",
       "2018-01-04 21:00:00+00:00        57499.0       9988.0       95020.0\n",
       "2018-01-05 21:00:00+00:00         9988.0     -41103.0      153270.0\n",
       "2018-01-08 21:00:00+00:00       -41103.0     -88304.0      188800.0\n",
       "2018-01-09 21:00:00+00:00       -88304.0    -140555.0      261250.0\n",
       "2018-01-10 21:00:00+00:00      -140555.0    -196936.0      338280.0\n",
       "2018-01-11 21:00:00+00:00      -196936.0    -245337.0      338800.0\n",
       "2018-01-12 21:00:00+00:00      -245337.0    -294818.0      395840.0\n",
       "2018-01-16 21:00:00+00:00      -294818.0    -337829.0      387090.0\n",
       "2018-01-17 21:00:00+00:00      -337829.0    -366830.0      290000.0\n",
       "2018-01-18 21:00:00+00:00      -366830.0    -406631.0      437800.0\n",
       "2018-01-19 21:00:00+00:00      -406631.0    -448032.0      496800.0\n",
       "2018-01-22 21:00:00+00:00      -448032.0    -483343.0      459030.0\n",
       "2018-01-23 21:00:00+00:00      -483343.0    -517294.0      475300.0\n",
       "2018-01-24 21:00:00+00:00      -517294.0    -552265.0      524550.0\n",
       "2018-01-25 21:00:00+00:00      -552265.0    -585736.0      535520.0\n",
       "2018-01-26 21:00:00+00:00      -585736.0    -618207.0      551990.0\n",
       "2018-01-29 21:00:00+00:00      -618207.0    -654018.0      644580.0\n",
       "2018-01-30 21:00:00+00:00      -654018.0    -687249.0      631370.0\n",
       "2018-01-31 21:00:00+00:00      -687249.0    -717250.0      600000.0"
      ]
     },
     "execution_count": 8,
     "metadata": {},
     "output_type": "execute_result"
    }
   ],
   "source": [
    "result[['starting_cash', 'ending_cash', 'ending_value']]"
   ]
  },
  {
   "cell_type": "code",
   "execution_count": 10,
   "metadata": {},
   "outputs": [
    {
     "data": {
      "text/plain": [
       "2018-01-02 21:00:00+00:00    100000.0\n",
       "2018-01-03 21:00:00+00:00     99999.0\n",
       "2018-01-04 21:00:00+00:00    105008.0\n",
       "2018-01-05 21:00:00+00:00    112167.0\n",
       "2018-01-08 21:00:00+00:00    100496.0\n",
       "2018-01-09 21:00:00+00:00    120695.0\n",
       "2018-01-10 21:00:00+00:00    141344.0\n",
       "2018-01-11 21:00:00+00:00     93463.0\n",
       "2018-01-12 21:00:00+00:00    101022.0\n",
       "2018-01-16 21:00:00+00:00     49261.0\n",
       "2018-01-17 21:00:00+00:00    -76830.0\n",
       "2018-01-18 21:00:00+00:00     31169.0\n",
       "2018-01-19 21:00:00+00:00     48768.0\n",
       "2018-01-22 21:00:00+00:00    -24313.0\n",
       "2018-01-23 21:00:00+00:00    -41994.0\n",
       "2018-01-24 21:00:00+00:00    -27715.0\n",
       "2018-01-25 21:00:00+00:00    -50216.0\n",
       "2018-01-26 21:00:00+00:00    -66217.0\n",
       "2018-01-29 21:00:00+00:00     -9438.0\n",
       "2018-01-30 21:00:00+00:00    -55879.0\n",
       "2018-01-31 21:00:00+00:00   -117250.0\n",
       "Name: portfolio_value, dtype: float64"
      ]
     },
     "execution_count": 10,
     "metadata": {},
     "output_type": "execute_result"
    }
   ],
   "source": [
    "result.portfolio_value"
   ]
  },
  {
   "cell_type": "code",
   "execution_count": 9,
   "metadata": {},
   "outputs": [
    {
     "data": {
      "image/png": "[encoded data removed]",
      "text/plain": [
       "<matplotlib.figure.Figure at 0x7fb9f5e8bb00>"
      ]
     },
     "metadata": {},
     "output_type": "display_data"
    }
   ],
   "source": [
    "plt.plot(result.index, result.portfolio_value)\n",
    "plt.show()"
   ]
  }
 ],
 "metadata": {
  "kernelspec": {
   "display_name": "Python 3",
   "language": "python",
   "name": "python3"
  },
  "language_info": {
   "codemirror_mode": {
    "name": "ipython",
    "version": 3
   },
   "file_extension": ".py",
   "mimetype": "text/x-python",
   "name": "python",
   "nbconvert_exporter": "python",
   "pygments_lexer": "ipython3",
   "version": "3.6.5"
  }
 },
 "nbformat": 4,
 "nbformat_minor": 2
}
