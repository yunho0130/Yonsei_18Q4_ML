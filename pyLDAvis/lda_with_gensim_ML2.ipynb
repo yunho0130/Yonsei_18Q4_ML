{
  "nbformat": 4,
  "nbformat_minor": 0,
  "metadata": {
    "colab": {
      "name": "lda_with_gensim.ipynb",
      "version": "0.3.2",
      "provenance": [],
      "collapsed_sections": []
    },
    "kernelspec": {
      "name": "python3",
      "display_name": "Python 3"
    },
    "accelerator": "TPU"
  },
  "cells": [
    {
      "metadata": {
        "id": "EyWD372lqMs6",
        "colab_type": "text"
      },
      "cell_type": "markdown",
      "source": [
        "References  \n",
        "1. <https://www.machinelearningplus.com/nlp/topic-modeling-gensim-python/>  \n",
        "1. <http://www.engear.net/wp/topic-modeling-gensimpython/>\n",
        "1. <https://www.lucypark.kr/courses/2015-ba/text-mining.html>  \n",
        "1. <https://github.com/smilemango/lda_study>  "
      ]
    },
    {
      "metadata": {
        "id": "9U0AX3RBZxQ3",
        "colab_type": "code",
        "outputId": "ab1cc6cd-0bb6-431d-b27c-689ab0a3dc2b",
        "colab": {
          "base_uri": "https://localhost:8080/",
          "height": 1121
        }
      },
      "cell_type": "code",
      "source": [
        "!pip install gensim\n",
        "!pip install pyLDAvis\n",
        "!pip install spacy"
      ],
      "execution_count": 2,
      "outputs": [
        {
          "output_type": "stream",
          "text": [
            "Requirement already satisfied: gensim in /usr/local/lib/python3.6/dist-packages (3.6.0)\n",
            "Requirement already satisfied: smart-open>=1.2.1 in /usr/local/lib/python3.6/dist-packages (from gensim) (1.7.1)\n",
            "Requirement already satisfied: scipy>=0.18.1 in /usr/local/lib/python3.6/dist-packages (from gensim) (1.1.0)\n",
            "Requirement already satisfied: numpy>=1.11.3 in /usr/local/lib/python3.6/dist-packages (from gensim) (1.15.4)\n",
            "Requirement already satisfied: six>=1.5.0 in /usr/local/lib/python3.6/dist-packages (from gensim) (1.11.0)\n",
            "Requirement already satisfied: boto>=2.32 in /usr/local/lib/python3.6/dist-packages (from smart-open>=1.2.1->gensim) (2.49.0)\n",
            "Requirement already satisfied: bz2file in /usr/local/lib/python3.6/dist-packages (from smart-open>=1.2.1->gensim) (0.98)\n",
            "Requirement already satisfied: requests in /usr/local/lib/python3.6/dist-packages (from smart-open>=1.2.1->gensim) (2.18.4)\n",
            "Requirement already satisfied: boto3 in /usr/local/lib/python3.6/dist-packages (from smart-open>=1.2.1->gensim) (1.9.62)\n",
            "Requirement already satisfied: chardet<3.1.0,>=3.0.2 in /usr/local/lib/python3.6/dist-packages (from requests->smart-open>=1.2.1->gensim) (3.0.4)\n",
            "Requirement already satisfied: urllib3<1.23,>=1.21.1 in /usr/local/lib/python3.6/dist-packages (from requests->smart-open>=1.2.1->gensim) (1.22)\n",
            "Requirement already satisfied: certifi>=2017.4.17 in /usr/local/lib/python3.6/dist-packages (from requests->smart-open>=1.2.1->gensim) (2018.11.29)\n",
            "Requirement already satisfied: idna<2.7,>=2.5 in /usr/local/lib/python3.6/dist-packages (from requests->smart-open>=1.2.1->gensim) (2.6)\n",
            "Requirement already satisfied: jmespath<1.0.0,>=0.7.1 in /usr/local/lib/python3.6/dist-packages (from boto3->smart-open>=1.2.1->gensim) (0.9.3)\n",
            "Requirement already satisfied: s3transfer<0.2.0,>=0.1.10 in /usr/local/lib/python3.6/dist-packages (from boto3->smart-open>=1.2.1->gensim) (0.1.13)\n",
            "Requirement already satisfied: botocore<1.13.0,>=1.12.62 in /usr/local/lib/python3.6/dist-packages (from boto3->smart-open>=1.2.1->gensim) (1.12.62)\n",
            "Requirement already satisfied: python-dateutil<3.0.0,>=2.1; python_version >= \"2.7\" in /usr/local/lib/python3.6/dist-packages (from botocore<1.13.0,>=1.12.62->boto3->smart-open>=1.2.1->gensim) (2.5.3)\n",
            "Requirement already satisfied: docutils>=0.10 in /usr/local/lib/python3.6/dist-packages (from botocore<1.13.0,>=1.12.62->boto3->smart-open>=1.2.1->gensim) (0.14)\n",
            "Requirement already satisfied: pyLDAvis in /usr/local/lib/python3.6/dist-packages (2.1.2)\n",
            "Requirement already satisfied: pytest in /usr/local/lib/python3.6/dist-packages (from pyLDAvis) (3.10.1)\n",
            "Requirement already satisfied: pandas>=0.17.0 in /usr/local/lib/python3.6/dist-packages (from pyLDAvis) (0.22.0)\n",
            "Requirement already satisfied: funcy in /usr/local/lib/python3.6/dist-packages (from pyLDAvis) (1.11)\n",
            "Requirement already satisfied: joblib>=0.8.4 in /usr/local/lib/python3.6/dist-packages (from pyLDAvis) (0.13.0)\n",
            "Requirement already satisfied: jinja2>=2.7.2 in /usr/local/lib/python3.6/dist-packages (from pyLDAvis) (2.10)\n",
            "Requirement already satisfied: future in /usr/local/lib/python3.6/dist-packages (from pyLDAvis) (0.16.0)\n",
            "Requirement already satisfied: scipy>=0.18.0 in /usr/local/lib/python3.6/dist-packages (from pyLDAvis) (1.1.0)\n",
            "Requirement already satisfied: numpy>=1.9.2 in /usr/local/lib/python3.6/dist-packages (from pyLDAvis) (1.15.4)\n",
            "Requirement already satisfied: wheel>=0.23.0 in /usr/local/lib/python3.6/dist-packages (from pyLDAvis) (0.32.3)\n",
            "Requirement already satisfied: numexpr in /usr/local/lib/python3.6/dist-packages (from pyLDAvis) (2.6.8)\n",
            "Requirement already satisfied: atomicwrites>=1.0 in /usr/local/lib/python3.6/dist-packages (from pytest->pyLDAvis) (1.2.1)\n",
            "Requirement already satisfied: more-itertools>=4.0.0 in /usr/local/lib/python3.6/dist-packages (from pytest->pyLDAvis) (4.3.0)\n",
            "Requirement already satisfied: attrs>=17.4.0 in /usr/local/lib/python3.6/dist-packages (from pytest->pyLDAvis) (18.2.0)\n",
            "Requirement already satisfied: pluggy>=0.7 in /usr/local/lib/python3.6/dist-packages (from pytest->pyLDAvis) (0.8.0)\n",
            "Requirement already satisfied: py>=1.5.0 in /usr/local/lib/python3.6/dist-packages (from pytest->pyLDAvis) (1.7.0)\n",
            "Requirement already satisfied: setuptools in /usr/local/lib/python3.6/dist-packages (from pytest->pyLDAvis) (40.6.2)\n",
            "Requirement already satisfied: six>=1.10.0 in /usr/local/lib/python3.6/dist-packages (from pytest->pyLDAvis) (1.11.0)\n",
            "Requirement already satisfied: pytz>=2011k in /usr/local/lib/python3.6/dist-packages (from pandas>=0.17.0->pyLDAvis) (2018.7)\n",
            "Requirement already satisfied: python-dateutil>=2 in /usr/local/lib/python3.6/dist-packages (from pandas>=0.17.0->pyLDAvis) (2.5.3)\n",
            "Requirement already satisfied: MarkupSafe>=0.23 in /usr/local/lib/python3.6/dist-packages (from jinja2>=2.7.2->pyLDAvis) (1.1.0)\n",
            "Requirement already satisfied: spacy in /usr/local/lib/python3.6/dist-packages (2.0.18)\n",
            "Requirement already satisfied: regex==2018.01.10 in /usr/local/lib/python3.6/dist-packages (from spacy) (2018.1.10)\n",
            "Requirement already satisfied: numpy>=1.15.0 in /usr/local/lib/python3.6/dist-packages (from spacy) (1.15.4)\n",
            "Requirement already satisfied: preshed<2.1.0,>=2.0.1 in /usr/local/lib/python3.6/dist-packages (from spacy) (2.0.1)\n",
            "Requirement already satisfied: plac<1.0.0,>=0.9.6 in /usr/local/lib/python3.6/dist-packages (from spacy) (0.9.6)\n",
            "Requirement already satisfied: thinc<6.13.0,>=6.12.1 in /usr/local/lib/python3.6/dist-packages (from spacy) (6.12.1)\n",
            "Requirement already satisfied: dill<0.3,>=0.2 in /usr/local/lib/python3.6/dist-packages (from spacy) (0.2.8.2)\n",
            "Requirement already satisfied: cymem<2.1.0,>=2.0.2 in /usr/local/lib/python3.6/dist-packages (from spacy) (2.0.2)\n",
            "Requirement already satisfied: ujson>=1.35 in /usr/local/lib/python3.6/dist-packages (from spacy) (1.35)\n",
            "Requirement already satisfied: murmurhash<1.1.0,>=0.28.0 in /usr/local/lib/python3.6/dist-packages (from spacy) (1.0.1)\n",
            "Requirement already satisfied: requests<3.0.0,>=2.13.0 in /usr/local/lib/python3.6/dist-packages (from spacy) (2.18.4)\n",
            "Requirement already satisfied: msgpack<0.6.0,>=0.5.6 in /usr/local/lib/python3.6/dist-packages (from thinc<6.13.0,>=6.12.1->spacy) (0.5.6)\n",
            "Requirement already satisfied: tqdm<5.0.0,>=4.10.0 in /usr/local/lib/python3.6/dist-packages (from thinc<6.13.0,>=6.12.1->spacy) (4.28.1)\n",
            "Requirement already satisfied: six<2.0.0,>=1.10.0 in /usr/local/lib/python3.6/dist-packages (from thinc<6.13.0,>=6.12.1->spacy) (1.11.0)\n",
            "Requirement already satisfied: msgpack-numpy<0.4.4 in /usr/local/lib/python3.6/dist-packages (from thinc<6.13.0,>=6.12.1->spacy) (0.4.3.2)\n",
            "Requirement already satisfied: cytoolz<0.10,>=0.9.0 in /usr/local/lib/python3.6/dist-packages (from thinc<6.13.0,>=6.12.1->spacy) (0.9.0.1)\n",
            "Requirement already satisfied: wrapt<1.11.0,>=1.10.0 in /usr/local/lib/python3.6/dist-packages (from thinc<6.13.0,>=6.12.1->spacy) (1.10.11)\n",
            "Requirement already satisfied: chardet<3.1.0,>=3.0.2 in /usr/local/lib/python3.6/dist-packages (from requests<3.0.0,>=2.13.0->spacy) (3.0.4)\n",
            "Requirement already satisfied: certifi>=2017.4.17 in /usr/local/lib/python3.6/dist-packages (from requests<3.0.0,>=2.13.0->spacy) (2018.11.29)\n",
            "Requirement already satisfied: urllib3<1.23,>=1.21.1 in /usr/local/lib/python3.6/dist-packages (from requests<3.0.0,>=2.13.0->spacy) (1.22)\n",
            "Requirement already satisfied: idna<2.7,>=2.5 in /usr/local/lib/python3.6/dist-packages (from requests<3.0.0,>=2.13.0->spacy) (2.6)\n",
            "Requirement already satisfied: toolz>=0.8.0 in /usr/local/lib/python3.6/dist-packages (from cytoolz<0.10,>=0.9.0->thinc<6.13.0,>=6.12.1->spacy) (0.9.0)\n"
          ],
          "name": "stdout"
        }
      ]
    },
    {
      "metadata": {
        "id": "cRlivchxafXR",
        "colab_type": "code",
        "outputId": "fe275242-6dab-42ec-b478-99fe88668c44",
        "colab": {
          "base_uri": "https://localhost:8080/",
          "height": 212
        }
      },
      "cell_type": "code",
      "source": [
        "!pip install nltk\n",
        "!pip install stopwords"
      ],
      "execution_count": 3,
      "outputs": [
        {
          "output_type": "stream",
          "text": [
            "Requirement already satisfied: nltk in /usr/local/lib/python3.6/dist-packages (3.2.5)\n",
            "Requirement already satisfied: six in /usr/local/lib/python3.6/dist-packages (from nltk) (1.11.0)\n",
            "Collecting stopwords\n",
            "\u001b[?25l  Downloading https://files.pythonhosted.org/packages/14/a2/d4eb1d5e609fa0b1d59e929db8eb9ae540f8b2d6db3a4ba26f713e81af15/stopwords-0.1.3.tar.gz (41kB)\n",
            "\u001b[K    100% |████████████████████████████████| 51kB 4.5MB/s \n",
            "\u001b[?25hBuilding wheels for collected packages: stopwords\n",
            "  Running setup.py bdist_wheel for stopwords ... \u001b[?25l-\b \b\\\b \bdone\n",
            "\u001b[?25h  Stored in directory: /root/.cache/pip/wheels/39/fa/c7/c4c5111e658f5c58465d948165dc3395a3c10ff57f4cd20356\n",
            "Successfully built stopwords\n",
            "Installing collected packages: stopwords\n",
            "Successfully installed stopwords-0.1.3\n"
          ],
          "name": "stdout"
        }
      ]
    },
    {
      "metadata": {
        "id": "DASWYtayZx99",
        "colab_type": "code",
        "outputId": "0b3e147e-9351-4e4b-b69e-fe03bba39eec",
        "colab": {
          "base_uri": "https://localhost:8080/",
          "height": 87
        }
      },
      "cell_type": "code",
      "source": [
        "!git clone https://github.com/yunho0130/lda_study"
      ],
      "execution_count": 4,
      "outputs": [
        {
          "output_type": "stream",
          "text": [
            "Cloning into 'lda_study'...\n",
            "remote: Enumerating objects: 6, done.\u001b[K\n",
            "remote: Total 6 (delta 0), reused 0 (delta 0), pack-reused 6\u001b[K\n",
            "Unpacking objects: 100% (6/6), done.\n"
          ],
          "name": "stdout"
        }
      ]
    },
    {
      "metadata": {
        "id": "h3jGOAnvZwTH",
        "colab_type": "code",
        "colab": {}
      },
      "cell_type": "code",
      "source": [
        "import re\n",
        "import numpy as np\n",
        "import pandas as pd\n",
        "from pprint import pprint\n",
        "\n",
        "# Gensim\n",
        "import gensim\n",
        "import gensim.corpora as corpora\n",
        "from gensim.utils import simple_preprocess\n",
        "from gensim.models import CoherenceModel\n",
        "\n",
        "# spacy for lemmatization\n",
        "import spacy\n",
        "\n",
        "# Plotting tools\n",
        "import pyLDAvis\n",
        "import pyLDAvis.gensim  # don't skip this\n",
        "import matplotlib.pyplot as plt\n",
        "%matplotlib inline\n",
        "\n",
        "# Enable logging for gensim - optional\n",
        "import logging\n",
        "logging.basicConfig(format='%(asctime)s : %(levelname)s : %(message)s', level=logging.ERROR)\n",
        "\n",
        "import warnings\n",
        "warnings.filterwarnings(\"ignore\",category=DeprecationWarning)"
      ],
      "execution_count": 0,
      "outputs": []
    },
    {
      "metadata": {
        "id": "ywvxX-m_ZwTQ",
        "colab_type": "code",
        "outputId": "a177f683-9729-4f2e-c26d-75523b7d8a58",
        "colab": {
          "base_uri": "https://localhost:8080/",
          "height": 484
        }
      },
      "cell_type": "code",
      "source": [
        "# Import Dataset\n",
        "df = pd.read_csv(\"hmd_vr_reviews.csv\")\n",
        "# comments\n",
        "print(df.comments.unique())\n",
        "df.head()"
      ],
      "execution_count": 7,
      "outputs": [
        {
          "output_type": "stream",
          "text": [
            "['No me funcion??' 'Did not work!!!' 'kids enjoy them' ...\n",
            " 'I bought this as an impulse after a friend brought his over and we played around on it for a couple hours. Here is my in breakdown if you don\\'t want to read the entire review.Pro\\'s:1. Fun for getting a taste of where the VR technology is going and what will be available in a few years.2. Compared to other options for price and quality available (Cardboard, Vive, VR One, Oculus) it is affordable and *easy to use.3. Decent look overall and comfortable to wear.* Device hardware is simple enough but the software could use some work. For instance you would not be able to hand this over to someone and them intuitively figure out how to navigate the system easily which means you will basically have to have the person take off the headset each time to load up the next \"demo\" you want to show them.Con\\'s:1. Uses phone as processing source which means you can\\'t use phone while in operation.2. Tends to overheat after 45mins-1hour+ of use especially if any other application or download is running on phone.3. Design of back-plate to cover phone and lenses has holes which allow dust to get in which requires *constant dusting/cleaning before use.4. Only works with 3-4 Samsung model phones at the moment.5. To actually have any kind of VR style immersion you need to purchase additional hardware such as a Bluetooth headset and controller.6. Not a lot of content is available for free with most averaging 2-5$ and the better games/demos costing 9-15$. Hopefully more content will become available as this technology matures.Hands-On:Purchased this as an impulse buy after a night of drinking and honestly after getting through the \"Wow\" factor and a few uses it looses its luster. The device is decently made and pretty lightweight and isn\\'t as awkward to wear as you might expect even for longer periods of time. I am using a Samsung S6 as the Screen/Processor of this device and it works pretty well. I will note that most cases will need to be taken off to be locked into place on the headset. I am using a \"Samsung Protective Cover for Samsung Galaxy S6 - Clear Black Sapphire\" available on amazon for 4.99 which is thing enough it fits in the Gear without having to remove it. Also another note on the phone is that any protective screen you use could impact the visual quality of the Gear and if you use a tempered glass screen read the reviews of other owners as if you try to put it in the Gear and snap in place it can crack or break the Glass Protector.Controls and Navigation:Onto the actual use of the device. Now, IMHO, this device is pretty much useless and incredibly awkward/difficult to navigate unless you also purchase a bluetooth controller especially for any games as the controls on the device are \"swipe\" driven by a touch pad on the right side of the headset. I find that even after a few uses of the Gear the built in controls never feel \"comfortable\".Software:The software itself cannot be installed onto the phone prior to the Gear being attached which is not a big deal to most I\\'m sure but I found it mildly annoying. Once the phone is attached and the Gear software is up the phone becomes unusable as a phone. You will be able to see text messages pop up but I have not found a way to interact with them or respond and without taking the phone out of the Gear there is no way to access any of the other applications on your phone even if they are for VR. Basically this means that you are limited to what is available in the Samsung Gear Store.Using the Gear:The headset itself is adjustable and pretty lightweight. It fits well enough for me that it isn\\'t uncomfortable even after prolonged usage. I have found, however, that being \"plugged in\" for awhile (40+ minutes) after removing the headset there is a displaced vertigo feeling for a few minutes afterwards. Akin to If you have ever driven on a long straight road for awhile and then stopped your vision has that pinching effect where everything looks like it\\'s still coming towards you. Another note is that there is no cover for the part of the lens that are closest to your eyes and the back-plate which covers the back of the Gear has air holes which means dust *Will get on the lenses. So you must clean/dust the lenses before every single use. I have been putting the Gear back into the box it came in to cut down on this but it still gets particles that will be extremely noticeable once you are wearing it if not cleaned beforehand.Applications:Now, one huge issue with this is that even while not doing much in the Gear your phone will tend to get hot. You can also pretty much forget about downloading content or applications while the phone is hooked up to the Gear. If you are say playing a game and you set a few different applications or demos to download so you could play them later then it is most likely your phone will overheat and require you to take the phone out of the headset for 15 minutes to cool down. Therefore, you should download any content you are planning on using while the phone is not in the headset prior to use. Also, to help remedy this I usually do not attach the back-plate cover that goes over the phone as it helps more airflow get to the back of the phone and keep it cool. I have not noticed much in the way of light leaking around my phone even without the back-plate so this has been a good method to help the issue.Content:I have also found that there isn\\'t a lot of content available *yet. I would say probably around 100 or so demos/applications/games that you can play which are fun but when you get down to the core there are only around 10 or so you will find yourself actually playing/watching/using for more than 10 minutes. I have had decent luck with downloading 3d VR compatible videos/demos and loading them onto my phone for playback within the Gear video player. In fact some of the best HD content I have found was from outside sources. Now another thing to keep in mind is that most of the content available is not free especially for the well rated media that you will watch/play more than 1 time and range from 2-15$.  *Since this technology is still in its infancy I assume there will be much more content to come as more developers get on-board. But for the time being there is just not a lot of good media available.Final Thoughts:The device is fun for awhile but I will never be buying a system like this again that uses my phone as the \"brains\" of the system. I didn\\'t really think about how inconvenient it would be that I wouldn\\'t be able to use the phone while operating the Gear. Also the cleaning of the Gear lenses and phone screen (finger smudges from everyday use) prior to every single use makes it a bit of a hassle to use the device as often as I would like. The \"hidden\" costs of using the Gear become apparent quickly as most content available is not free and to actually make this enjoyable and immersive you need a bluetooth headset and bluetooth controller. So the 99$ for a consumer VR experience really becomes well over 150-200$ depending on the additional purchases. (GearVR 99$ + Headset ~25$ + Controller ~25$ = 150$) and that\\'s just the hardware not including the games and media you buy through the store.For anyone interested in purchasing this I will say that it is a fun teaser to experience Virtual Reality in your house and see what the technology is like. Even with the additional hardware needed to make the experience enjoyable a VR headset for less that 200$ is pretty affordable. If you have the money to shell out it is fun but I find that beyond showing it off to other people who have never experienced VR before it lacks that \"pop\" that will have you using it for more than a month or two. There is still a long way to go before VR is in a place that I will be spending anymore money in the technology.'\n",
            " \"I have been following VR for quite awhile reading news everyday on the big boys Oculus Rift and Vive, reading impressions, watching interviews and people's reactions after using some of these devices. Even though I have never used one, I was convinced VR will change how we consume entertainment media.  So I decided to get Gear VR to get a first taste of what VR is like because I have a Galaxy S6 Edge Plus anyway...why not..it's only $99 bucks.Upon donning the headset, I was presented with a view of the Home screen and notice right away a sense of scale and presence.  I feel like a giant looking down 20 feet above or so from the ground.  The table and chairs behind me are HUGE. The UI of the Home screen is sleek and easy to use.  You simply move your head to move the cursor where you want and select by tapping the right side of the cross indent cross bar.  First thing I check out is Oculus Cinema.  I gotta to check out the theaters.  I heard many testimonies about how cool and real it is...so upon loading up a video and selecting Oculus Theater, I feel literally like I am actually INSIDE a theater...the screen is huge, OH MY.  I can look around and see a bunch of empty seats...i can look behind me and basically anywhere I want...this is PRESENCE my friend.  This is what I expected and actually more than I expected. I knew it's going to be like this (because I heard about it) but until you experience it, you don't really know.  I begin to download some 3D movies to my phone and watch them and see how it look....and OH MAN, it does look like I'm watching a 3D movie.  The 3D really do pop out of the screen just like real theaters.  This is really cool.  Now, there are other theaters that you can go to such as Ant Theater and Moon Theater...but I only like the Oculus Cinema Theater and Void Theater. Void Theater is really cool because you're much closer to the screen.So after testing out the theaters, I head out and explore other videos.  I am really impressed with the UI they created.  It's easy to navigate and easy to identify different sections of the menu.  Milk VR is impressive with its contents.  It shows 360 degree of videos that you can actually look around and see everything...oh my, this is impressive.  This will change the experience of everything we know about watching videos or pictures.  In a flat 2D screen, you can only capture a single view of the video but this is a whole different level. I can see everything like I am actually really there 360 turn around....amazing.  For some reason I feel like this is expected because I guess I have read too many VR news and understood how it work. So i wasn't as awed as perhaps compare to someone who never heard about VR.  Never the less, I am quite impressed with this new media.  Other things I look at are Oculus 360 videos (most of the videos are blurry here), Oculus 360 pictures (check out the 3D pictures, they're impressive and the scale is perfect).  Now one thing I want to mention is that of all the videos and pictures I seen, most of them seem huge, i mean HUGEEE like the scale is incorrect.  You feel like a giant among giants.  I don't know if that's the way VR work or is it something they're working to correct.  When I look at the 3D 360 pictures, they seem to get the scale correct.  Not so with the traditional 360 pictures or videos. I have learned something by watching these videos and pictures though.  I learned it's important to get the correct height of the camera so users get a better experience. If it's too high, you feel like a giant.  If it's too low, you're a midget.  They need to get it right.  Overall, i am impressed with Vrideo, Milk videos, Oculus 360 videos and pictures, Picture Gallery app.  I check out Vimeo and Twitch, it's cool.  I checked out the Social App...okay cool, you can watch some videos with 3 or 4 people in the same room and chat with them.  It's cool but I don't see people staying there too long.  It's more like a curiosity and then let me get out of here.Now let's talk about gaming.  I bought a couple games and the best so far is Gunjack. This game is amazing.  I never understand what it means to be playing a virtual reality game until now.  You really feel a sense of scale and presence inside this amazing looking game with its UNREAL ENGINE graphics.  As the ship move about, you feel totally immersed because of how realistic everything is and the ability to look anywhere. You really feel like you're inside a cockpit.  Anshar War is a similar game with 360 movement shooting in every directions.  Dead Secret is a good start for a VR explore game.  You really feel like you're standing in a room when you play this game.  You can't physically walk but you can teleport.  By the way, you will get motion sickness if you're moving from point A to B when your body is not reacting to any movement.  So i suggest play this game using teleport movement.  Even if you're watching a 360 videos...if the movement is drastic and accelerate from point to point without constant speed, just stop or close your eyes because you will get motion sickness.  You will sense it and it's coming and you just need to stop.  So far, I haven't let motion sickness get to me but when i feel it is coming, I had to either stop or close my eyes.  Some of these 360 videos are just terrible not just quality wise but induce motion sickness.  There should be ratings for watching 360 degree videos.  Ratings should include motion sickness, quality of the video and graphical contents.  Now I know why games such as Call Of Duty or any games that required one running from point A to point B are impossible to make due to motion sickness.  Even in simple game like Land's End induce a bit of motion sickness due to it's acceleration and stop motion.  And now i know why developers want to use teleportation to get player from point A to point B because it presents no motion sickness at all.  Now with a game like Dead Secret, it's cool that you can stand there and look around your environment and explore like you're actually there.  But it's much cooler if you can walk around a bit too and this is when i feel VIVE will trump all headsets out there. The ability to walk naturally anywhere you want in a 15'x15' is going to take VR to another level.  Everything you can do naturally with your body, you can do it with VIVE and I don't know about Oculus Rift.  I heard it has occlusion problem if you turn all the way around since they only use two cameras to capture the front of your headset.  People say that you can buy additional cameras and put them behind you and that will solve the problem but I don't now that. I feel VIVE...with it's huge space is going to be amazing for gaming and actually better for shooting now that you have a lot more space to operate.  You can always teleport to different areas and continue exploring in your natural body movement.  Any movement that involve using thumbsticks are just going to induce motion sickness because your body is not reacting to the physics of the virtual world.Now I heard eventually Gear VR can be tracked with Valve's Lighthouse and using Valve's controllers. If that's the case, that's a game changer because now you have a headset that is totally untethered and now you add the ability to walk around without any wire tangling up is going to be amazing.  But there is a trade off though.  Gear VR is never going to be as powerful as Oculus Rift or VIVE with their PC's graphics fidelity.  Not only that, it is not as comfortable as Oculus Rift and VIVE...why? Because it is much heavier due to the weight of the phone.  I feel neck tiredness while using it for a long period of time. I feel eyes strained as well but that's due to the sharpness and focus of the lenses. Gear VR doesn't have positional tracking. It also doesn't have 3D audio which the other big boys will have.  So, VIVE and Oculus Rift are going to take VR to a different level when they come out.Overall, I give Gear VR 5/5 for starter since there isn't anything to compare to for now.  When the big boys come out, look out!!  Gear VR will be treated like boy compare to man.\"\n",
            " \"I??e been waiting for these googles my whole life, but sadly I?? afraid I might have to wait a little longer.NOTE: I??e paid for these goggles. They were not a freebie in return for a review (unfortunately). Although if someone wants to send me some free ones they are more than welcome ;)First some background. I?? a military pilot. I have 20/20 vision and have never required any vision correction. My vision gets tested annually. I also don?? suffer from motion sickness. I only mention this now, not to brag, but it will become pertinent later when I bring up a couple of things I??e learnt about myself from operating with Night Vision Goggles (NVG??). I?? also not an optometrist/ophthalmologist so hopefully my opinions are close to correct.I?? using my goggles with a Galaxy S7 Edge (no screen protector ? as instructed by the goggles instructions).First the good stuff?f- The Oculus app, and store (that come included ? and are indeed required) is great. The Oculus app is it?? own ecosystem of apps?f and all other apps are launched from WITHIN the Oculus app. It looks professional and sets the tone for a great VR experience. It?? your very first look into the VR world, and as soon as you put the goggles on you know you are in for something special. Oculus have done a great job and Samsung has done well to pair with them.- A good number of the apps you can access for free, through the Oculus store, are pretty impressive even just simply accessing their main menu screens. They really leverage the VR experience.MY TIPS:(1) The download and installation of the REQUIRED Oculus app is fully automatic once you connect your phone.  The setup is really easy so don?? stress if you are concerned about a big setup process. The Oculus app makes it all very easy.  (2) If you are like me and want to try and download the Oculus app and additional content prior to the arrival of your goggles don?? worry about it. There appears to be no way of doing it without the goggles, so like me you will be just wasting your time looking. I found there is not too much about the how to access the Samsung VR/Oculus apps written anywhere ? I did search beforehand and was a little confused as to what was available and how to download them from Google Play Store.  Basically?f you don??! (NOTE: you will find ??oogle Cardboard? VR apps in the Google Play Store, and also find online workaround tips on how to use ??oogle Cardboard? apps with the Samsung VR goggles. This is definitely not required, and these apps are run EXTERNALLY to the Oculus app and it?? ecosystem.)  (3) Definitely try the Netflix app, Moon VR player, Samsung Milk VR, Titans of Space. They are all pretty impressive. A number of the VR players on there will also allow you to play your own content from your SD Card.Next?f Get a controller?f maybe?f- Although the Samsung VR goggles come with a touchpad controller on the side, which can do MOST stuff, life can be a little easier with a separate Bluetooth controller (sometimes). It also gives you access to some of the content that requires a controller.- Donvr get confused when you read online about people using v\\x16gnetsv to control VR apps. This is a v0ogle Cardboardv thing, and once again does not apply to anything from the Oculus store.- I happened to have the vcOGA Pocketv Bluetooth game controller already, just by chance. It works with the Samsung goggles if you set it up properly. It took me a little while to track down the info on this.- The v&GA Pocketv is an older controller (but feels good and works well enough) thatvq on Amazon for only $6 right now so why not? (Thatvq way less than what I paid for it 6 months ago.)MY TIPS FOR THE v&GA POCKETv CONTROLLER:(1) Forget about the v&GA Pivot Appv. Unless you want it for the games on their website which (a) arenvr good (b) arenvr free (c) reportedly no longer work or download properly. Importantlyvf THE MOGA PIVOT APP DOES NOT WORK WITH THE OCULUS APP. I wasted hours trying to get this to work before conceding defeat and giving up. The redemption code included in the box for a free game also doesnvr work. Oerallvf very poorly done.  (2) Download the v&GA UNIVERSAL DRIVERv from the playstore. Manually pair the controller via Bluetooth to your phone (I think my controller showed as v,D&Av or something like that)that), then open the v&GA Universal Driverv app, and continue the setup, and add it to your keyboards. NOTE: You need to open the app, pair the controller activate the keyboard, and enable the driver, prior to inserting your phone into the goggles each time. (There is probably a more automated way but I havenvr worried at this stage).  (3) There is more info in the Amazon reviews for the MOGA controllers if Ivue not been clear here. (This was not meant to be a MOGA Controller review :)' )Now the negativesvf and therevq a pretty big onevfvf Within about 5-10mins of putting these goggles on I start to feel a painful eye strain. It is NOT excruciating, however it is quiet noticeable and uncomfortable and more importantly I can still feel it some many hours after taking them off. This is not motion sickness, but eytrain. It feels like pulling a musclevf in your eye sockets. Ivue spent ages trying to work it out and I think it all comes down to the basicness and cheapness of Samsungvq build/design.Ivf not an optometrist/ophthalmoloogist but for what it?? worth here are my thoughts.- Inter Pupillary Distance (IPD) ? IPD is the distance between the pupils (your eyes) and hence how far the lenses are apart.  Most of us have used binoculars before. You will recall there are normally 3 basic adjustments to be made:- IPD (when you adjust the width of your binocs), Diopter, and Focus. The IPD in the Samsung goggles is fixed, yet we don?? all have one-size-fits-all heads. I've read previously that the Samsung VR goggles are designed for 55-71mm IPD (I'm not sure what mine are). The spacing between the two images on your phone screen is also fixed. This affects the ?jonvergence? of your eyes. Think of the case where the lens? IPD are too far apart. Each eye will be trying to look in opposite directions to see through each lens at the same time, whilst simultaneously trying to converge the 2 images into one in an attempt to create a stereoscopic image. This is not normal for your eyes. In real life they normally naturally converge onto one subject in a manner comfortable to them?f not look outwards (as in the ?too wide? case) at 2 separate images. The opposite is true for too close ? you must go slightly cross-eyed. Ideally, you should be able to adjust the lenses in the goggles, to your eyes IPD and natural convergence range.Also... if you aren't looking through the centre of the lens, but rather the edge, they go out of focus. The spacing of the lenses in the is not the same as my IPD hence I am not looking through the centre of the lens most of the time.- Diopter ? Diopter is designed to let you compensate for differences between your own two eyes. Basically, some people?? eyes don?? focus equally?f so what you do is close one eye, then focus for the open eye normally. Then change eyes and adjust the diopter for the now open eye. Both eyes should now be in focus. Think of it as individual focus for each eye. (On your binoculars it's the eyepiece with the +/- numbers around it.) The Samsung VR goggles do not have the ability to adjust diopter or focus for each eye individually. Just one central focus adjustment.Now, as some background, prior to each flight on NVG?? we place them into a calibrated test unit and adjust the diopter and IPD (amongst other things) for myself and my special head. Most of us are all slightly different. The outcome however is that we can wear these goggles comfortably for many hours with no adverse eyestrain. In my case my diopter is generally 0 meaning my eyes focus about the same. The same goes for the diopter setting on my Canon DSLR.  Now I don?? know if I have a bad set of VR goggles (but I do tend to trust the expensive and calibrated aviation NVG's), but with the Samsung VR goggles I find that if I close one eye and focus the goggles, when I switch eyes the other is always out of focus. Sadly as there is no way to adjust diopter (or focus each eye separately) this cannot be rectified and may be another source of this discomfort ? as one eye is always struggling to focus an unfocusable image. I certainly personally have never experienced eye discomfort like this wearing goggles.So why such a low rating from me? Because regardless of how awesome the technology behind it is, and how good the Oculus store and associated apps are, it is all a deal breaker if the goggles cause eye pain.AND, because there are a number of small no name chinese manufacturers out their turning out plastic Google Cardboard goggles that are of comparable build quality (the Samsung goggles only have plastic lens? also), that also offer IPD adjustment and individual eye focus, for less than $30.  I find it astonishing that Samsung has not incorporated these features and can only assume that they might have been able to rectify my discomfort. Considering this is Samsung?? second generation of these goggles, and considering the resources behind Samsung, and considering SAMSUNG CHARGE 3xTIMES MORE! for their goggles, I would expect that they would have these basic features also included, just as the cheaper manufacturers have (they could also easily include a calibration section in the Oculus app allowing you to adjust the goggles and set the apps IPD, as well as calibrate Diopter).So, whilst it guts me to say this, and I really really want to keep them?f but every time I use them I can?? help but feeling I?? doing irreparable damage to my eyes?f So I?? going to have to send them back. Hopefully Samsung will do a better job with their 3rd generation goggles - we are almost there.In the meantime I might try some of the 3rd party goggles and see how they feel and will likely report back here with an update.Sorry for the long winded review.  Hopefully you found some of it useful.\"]\n"
          ],
          "name": "stdout"
        },
        {
          "output_type": "execute_result",
          "data": {
            "text/html": [
              "<div>\n",
              "<style scoped>\n",
              "    .dataframe tbody tr th:only-of-type {\n",
              "        vertical-align: middle;\n",
              "    }\n",
              "\n",
              "    .dataframe tbody tr th {\n",
              "        vertical-align: top;\n",
              "    }\n",
              "\n",
              "    .dataframe thead th {\n",
              "        text-align: right;\n",
              "    }\n",
              "</style>\n",
              "<table border=\"1\" class=\"dataframe\">\n",
              "  <thead>\n",
              "    <tr style=\"text-align: right;\">\n",
              "      <th></th>\n",
              "      <th>senti_score</th>\n",
              "      <th>deviceName</th>\n",
              "      <th>deviceCategory</th>\n",
              "      <th>reviewNo</th>\n",
              "      <th>reviewDivision</th>\n",
              "      <th>reviewUrl</th>\n",
              "      <th>helpResponceCnt</th>\n",
              "      <th>reviewWriter</th>\n",
              "      <th>date</th>\n",
              "      <th>purchase</th>\n",
              "      <th>...</th>\n",
              "      <th>PRQ02</th>\n",
              "      <th>PRQ03</th>\n",
              "      <th>TCT01</th>\n",
              "      <th>TCT02</th>\n",
              "      <th>TCT03</th>\n",
              "      <th>PCC01</th>\n",
              "      <th>PCC02</th>\n",
              "      <th>CYS01</th>\n",
              "      <th>CYS02</th>\n",
              "      <th>CYS03</th>\n",
              "    </tr>\n",
              "  </thead>\n",
              "  <tbody>\n",
              "    <tr>\n",
              "      <th>0</th>\n",
              "      <td>-0.876485</td>\n",
              "      <td>Samsung-Gear-VR</td>\n",
              "      <td>Gear VR</td>\n",
              "      <td>1078</td>\n",
              "      <td>critical</td>\n",
              "      <td>http://www.amazon.com/gp/customer-reviews/R3MD...</td>\n",
              "      <td>0</td>\n",
              "      <td>Amazon Customer</td>\n",
              "      <td>12-Feb-16</td>\n",
              "      <td>Verified Purchase</td>\n",
              "      <td>...</td>\n",
              "      <td>NaN</td>\n",
              "      <td>NaN</td>\n",
              "      <td>NaN</td>\n",
              "      <td>NaN</td>\n",
              "      <td>NaN</td>\n",
              "      <td>NaN</td>\n",
              "      <td>NaN</td>\n",
              "      <td>NaN</td>\n",
              "      <td>NaN</td>\n",
              "      <td>NaN</td>\n",
              "    </tr>\n",
              "    <tr>\n",
              "      <th>1</th>\n",
              "      <td>-0.663209</td>\n",
              "      <td>View-Master</td>\n",
              "      <td>AdvancedCardboard</td>\n",
              "      <td>571</td>\n",
              "      <td>critical</td>\n",
              "      <td>http://www.amazon.com/gp/customer-reviews/R2WS...</td>\n",
              "      <td>1</td>\n",
              "      <td>M S</td>\n",
              "      <td>05-Jan-16</td>\n",
              "      <td>Verified Purchase</td>\n",
              "      <td>...</td>\n",
              "      <td>NaN</td>\n",
              "      <td>NaN</td>\n",
              "      <td>NaN</td>\n",
              "      <td>NaN</td>\n",
              "      <td>NaN</td>\n",
              "      <td>NaN</td>\n",
              "      <td>NaN</td>\n",
              "      <td>NaN</td>\n",
              "      <td>NaN</td>\n",
              "      <td>NaN</td>\n",
              "    </tr>\n",
              "    <tr>\n",
              "      <th>2</th>\n",
              "      <td>0.000000</td>\n",
              "      <td>DESTEK-Distance-Adjustable</td>\n",
              "      <td>AdvancedCardboard</td>\n",
              "      <td>249</td>\n",
              "      <td>critical</td>\n",
              "      <td>http://www.amazon.com/gp/customer-reviews/R3UF...</td>\n",
              "      <td>0</td>\n",
              "      <td>Mark D Jessen</td>\n",
              "      <td>09-Nov-15</td>\n",
              "      <td>Verified Purchase</td>\n",
              "      <td>...</td>\n",
              "      <td>NaN</td>\n",
              "      <td>NaN</td>\n",
              "      <td>NaN</td>\n",
              "      <td>NaN</td>\n",
              "      <td>NaN</td>\n",
              "      <td>NaN</td>\n",
              "      <td>NaN</td>\n",
              "      <td>NaN</td>\n",
              "      <td>NaN</td>\n",
              "      <td>NaN</td>\n",
              "    </tr>\n",
              "    <tr>\n",
              "      <th>3</th>\n",
              "      <td>0.000000</td>\n",
              "      <td>Google-Cardboard</td>\n",
              "      <td>Cardboard</td>\n",
              "      <td>1156</td>\n",
              "      <td>critical</td>\n",
              "      <td>http://www.amazon.com/gp/customer-reviews/R1SD...</td>\n",
              "      <td>0</td>\n",
              "      <td>Michael Herman</td>\n",
              "      <td>01-Feb-16</td>\n",
              "      <td>Verified Purchase</td>\n",
              "      <td>...</td>\n",
              "      <td>NaN</td>\n",
              "      <td>NaN</td>\n",
              "      <td>NaN</td>\n",
              "      <td>NaN</td>\n",
              "      <td>NaN</td>\n",
              "      <td>NaN</td>\n",
              "      <td>NaN</td>\n",
              "      <td>NaN</td>\n",
              "      <td>NaN</td>\n",
              "      <td>NaN</td>\n",
              "    </tr>\n",
              "    <tr>\n",
              "      <th>4</th>\n",
              "      <td>0.000000</td>\n",
              "      <td>IncrediSonic M700</td>\n",
              "      <td>AdvancedCardboard</td>\n",
              "      <td>315</td>\n",
              "      <td>positive</td>\n",
              "      <td>http://www.amazon.com/gp/customer-reviews/R15O...</td>\n",
              "      <td>1</td>\n",
              "      <td>Amazon Customer</td>\n",
              "      <td>09-Nov-15</td>\n",
              "      <td>Verified Purchase</td>\n",
              "      <td>...</td>\n",
              "      <td>NaN</td>\n",
              "      <td>NaN</td>\n",
              "      <td>NaN</td>\n",
              "      <td>NaN</td>\n",
              "      <td>NaN</td>\n",
              "      <td>NaN</td>\n",
              "      <td>NaN</td>\n",
              "      <td>NaN</td>\n",
              "      <td>NaN</td>\n",
              "      <td>NaN</td>\n",
              "    </tr>\n",
              "  </tbody>\n",
              "</table>\n",
              "<p>5 rows × 39 columns</p>\n",
              "</div>"
            ],
            "text/plain": [
              "   senti_score                  deviceName     deviceCategory  reviewNo  \\\n",
              "0    -0.876485             Samsung-Gear-VR            Gear VR      1078   \n",
              "1    -0.663209                 View-Master  AdvancedCardboard       571   \n",
              "2     0.000000  DESTEK-Distance-Adjustable  AdvancedCardboard       249   \n",
              "3     0.000000            Google-Cardboard          Cardboard      1156   \n",
              "4     0.000000           IncrediSonic M700  AdvancedCardboard       315   \n",
              "\n",
              "  reviewDivision                                          reviewUrl  \\\n",
              "0       critical  http://www.amazon.com/gp/customer-reviews/R3MD...   \n",
              "1       critical  http://www.amazon.com/gp/customer-reviews/R2WS...   \n",
              "2       critical  http://www.amazon.com/gp/customer-reviews/R3UF...   \n",
              "3       critical  http://www.amazon.com/gp/customer-reviews/R1SD...   \n",
              "4       positive  http://www.amazon.com/gp/customer-reviews/R15O...   \n",
              "\n",
              "   helpResponceCnt     reviewWriter       date           purchase  ...    \\\n",
              "0                0  Amazon Customer  12-Feb-16  Verified Purchase  ...     \n",
              "1                1              M S  05-Jan-16  Verified Purchase  ...     \n",
              "2                0    Mark D Jessen  09-Nov-15  Verified Purchase  ...     \n",
              "3                0   Michael Herman  01-Feb-16  Verified Purchase  ...     \n",
              "4                1  Amazon Customer  09-Nov-15  Verified Purchase  ...     \n",
              "\n",
              "   PRQ02  PRQ03  TCT01  TCT02 TCT03  PCC01 PCC02  CYS01  CYS02  CYS03  \n",
              "0    NaN    NaN    NaN    NaN   NaN    NaN   NaN    NaN    NaN    NaN  \n",
              "1    NaN    NaN    NaN    NaN   NaN    NaN   NaN    NaN    NaN    NaN  \n",
              "2    NaN    NaN    NaN    NaN   NaN    NaN   NaN    NaN    NaN    NaN  \n",
              "3    NaN    NaN    NaN    NaN   NaN    NaN   NaN    NaN    NaN    NaN  \n",
              "4    NaN    NaN    NaN    NaN   NaN    NaN   NaN    NaN    NaN    NaN  \n",
              "\n",
              "[5 rows x 39 columns]"
            ]
          },
          "metadata": {
            "tags": []
          },
          "execution_count": 7
        }
      ]
    },
    {
      "metadata": {
        "id": "fmC7ZIt8da3-",
        "colab_type": "code",
        "colab": {}
      },
      "cell_type": "code",
      "source": [
        "import os\n",
        "# Please upload csv file after setting chdir\n",
        "os.chdir('lda_study')"
      ],
      "execution_count": 0,
      "outputs": []
    },
    {
      "metadata": {
        "id": "6dhWLXL8a4Jj",
        "colab_type": "code",
        "outputId": "bf4f1b3b-0b72-4fe6-bce9-d9b4857cada6",
        "colab": {
          "base_uri": "https://localhost:8080/",
          "height": 70
        }
      },
      "cell_type": "code",
      "source": [
        "import nltk\n",
        "nltk.download('stopwords')"
      ],
      "execution_count": 9,
      "outputs": [
        {
          "output_type": "stream",
          "text": [
            "[nltk_data] Downloading package stopwords to /root/nltk_data...\n",
            "[nltk_data]   Package stopwords is already up-to-date!\n"
          ],
          "name": "stdout"
        },
        {
          "output_type": "execute_result",
          "data": {
            "text/plain": [
              "True"
            ]
          },
          "metadata": {
            "tags": []
          },
          "execution_count": 9
        }
      ]
    },
    {
      "metadata": {
        "id": "fjMaAaFDZwTO",
        "colab_type": "code",
        "colab": {}
      },
      "cell_type": "code",
      "source": [
        "# NLTK Stop words\n",
        "from nltk.corpus import stopwords\n",
        "stop_words = stopwords.words('english')\n",
        "stop_words.extend(['from', 'subject', 're', 'edu', 'use'])"
      ],
      "execution_count": 0,
      "outputs": []
    },
    {
      "metadata": {
        "id": "sAH5ZHVgZwTU",
        "colab_type": "code",
        "outputId": "594cb2ad-feb0-4e7f-88a9-7e8ccfbff832",
        "colab": {
          "base_uri": "https://localhost:8080/",
          "height": 34
        }
      },
      "cell_type": "code",
      "source": [
        "# Convert to list\n",
        "data = df.comments.tolist()\n",
        "\n",
        "# Remove Emails\n",
        "data = [re.sub('\\S*@\\S*\\s?', '', sent) for sent in data]\n",
        "\n",
        "# Remove new line characters\n",
        "data = [re.sub('\\s+', ' ', sent) for sent in data]\n",
        "\n",
        "# Remove distracting single quotes\n",
        "data = [re.sub(\"\\'\", \"\", sent) for sent in data]\n",
        "\n",
        "pprint(data[:1])"
      ],
      "execution_count": 12,
      "outputs": [
        {
          "output_type": "stream",
          "text": [
            "['No me funcion??']\n"
          ],
          "name": "stdout"
        }
      ]
    },
    {
      "metadata": {
        "id": "Wco2_FjAZwTW",
        "colab_type": "code",
        "outputId": "70d11b2b-e4cb-4164-9826-0b8dab4839b5",
        "colab": {
          "base_uri": "https://localhost:8080/",
          "height": 34
        }
      },
      "cell_type": "code",
      "source": [
        "def sent_to_words(sentences):\n",
        "    for sentence in sentences:\n",
        "        yield(gensim.utils.simple_preprocess(str(sentence), deacc=True))  # deacc=True removes punctuations\n",
        "\n",
        "data_words = list(sent_to_words(data))\n",
        "\n",
        "print(data_words[:1])"
      ],
      "execution_count": 13,
      "outputs": [
        {
          "output_type": "stream",
          "text": [
            "[['no', 'me', 'funcion']]\n"
          ],
          "name": "stdout"
        }
      ]
    },
    {
      "metadata": {
        "id": "5V2Ca2DGZwTa",
        "colab_type": "code",
        "outputId": "bb25ef31-e03b-45e5-964c-b7e86cd30d17",
        "colab": {
          "base_uri": "https://localhost:8080/",
          "height": 70
        }
      },
      "cell_type": "code",
      "source": [
        "# Build the bigram and trigram models\n",
        "bigram = gensim.models.Phrases(data_words, min_count=5, threshold=100) # higher threshold fewer phrases.\n",
        "trigram = gensim.models.Phrases(bigram[data_words], threshold=100)  \n",
        "\n",
        "# Faster way to get a sentence clubbed as a trigram/bigram\n",
        "bigram_mod = gensim.models.phrases.Phraser(bigram)\n",
        "trigram_mod = gensim.models.phrases.Phraser(trigram)\n",
        "\n",
        "# See trigram example\n",
        "print(trigram_mod[bigram_mod[data_words[0]]])"
      ],
      "execution_count": 14,
      "outputs": [
        {
          "output_type": "stream",
          "text": [
            "/usr/local/lib/python3.6/dist-packages/gensim/models/phrases.py:598: UserWarning: For a faster implementation, use the gensim.models.phrases.Phraser class\n",
            "  warnings.warn(\"For a faster implementation, use the gensim.models.phrases.Phraser class\")\n"
          ],
          "name": "stderr"
        },
        {
          "output_type": "stream",
          "text": [
            "['no', 'me', 'funcion']\n"
          ],
          "name": "stdout"
        }
      ]
    },
    {
      "metadata": {
        "id": "nFvsxM9UZwTc",
        "colab_type": "code",
        "colab": {}
      },
      "cell_type": "code",
      "source": [
        "# Define functions for stopwords, bigrams, trigrams and lemmatization\n",
        "def remove_stopwords(texts):\n",
        "    return [[word for word in simple_preprocess(str(doc)) if word not in stop_words] for doc in texts]\n",
        "\n",
        "def make_bigrams(texts):\n",
        "    return [bigram_mod[doc] for doc in texts]\n",
        "\n",
        "def make_trigrams(texts):\n",
        "    return [trigram_mod[bigram_mod[doc]] for doc in texts]\n",
        "\n",
        "def lemmatization(texts, allowed_postags=['NOUN', 'ADJ', 'VERB', 'ADV']):\n",
        "    \"\"\"https://spacy.io/api/annotation\"\"\"\n",
        "    texts_out = []\n",
        "    for sent in texts:\n",
        "        doc = nlp(\" \".join(sent)) \n",
        "        texts_out.append([token.lemma_ for token in doc if token.pos_ in allowed_postags])\n",
        "    return texts_out"
      ],
      "execution_count": 0,
      "outputs": []
    },
    {
      "metadata": {
        "id": "KmmKbbCGeuAg",
        "colab_type": "code",
        "outputId": "cbaf9365-112f-474c-b769-f2905ceda0b5",
        "colab": {
          "base_uri": "https://localhost:8080/",
          "height": 267
        }
      },
      "cell_type": "code",
      "source": [
        "!python3 -m spacy download en"
      ],
      "execution_count": 16,
      "outputs": [
        {
          "output_type": "stream",
          "text": [
            "Collecting en_core_web_sm==2.0.0 from https://github.com/explosion/spacy-models/releases/download/en_core_web_sm-2.0.0/en_core_web_sm-2.0.0.tar.gz#egg=en_core_web_sm==2.0.0\n",
            "\u001b[?25l  Downloading https://github.com/explosion/spacy-models/releases/download/en_core_web_sm-2.0.0/en_core_web_sm-2.0.0.tar.gz (37.4MB)\n",
            "\u001b[K    100% |████████████████████████████████| 37.4MB 81.3MB/s \n",
            "\u001b[?25hInstalling collected packages: en-core-web-sm\n",
            "  Running setup.py install for en-core-web-sm ... \u001b[?25l-\b \b\\\b \b|\b \b/\b \bdone\n",
            "\u001b[?25hSuccessfully installed en-core-web-sm-2.0.0\n",
            "\n",
            "\u001b[93m    Linking successful\u001b[0m\n",
            "    /usr/local/lib/python3.6/dist-packages/en_core_web_sm -->\n",
            "    /usr/local/lib/python3.6/dist-packages/spacy/data/en\n",
            "\n",
            "    You can now load the model via spacy.load('en')\n",
            "\n"
          ],
          "name": "stdout"
        }
      ]
    },
    {
      "metadata": {
        "id": "emiU1rdhZwTg",
        "colab_type": "code",
        "outputId": "eed9f151-e855-4292-9617-6f915fc29e0b",
        "colab": {
          "base_uri": "https://localhost:8080/",
          "height": 34
        }
      },
      "cell_type": "code",
      "source": [
        "# Remove Stop Words\n",
        "data_words_nostops = remove_stopwords(data_words)\n",
        "\n",
        "# Form Bigrams\n",
        "data_words_bigrams = make_bigrams(data_words_nostops)\n",
        "\n",
        "# Initialize spacy 'en' model, keeping only tagger component (for efficiency)\n",
        "# python3 -m spacy download en\n",
        "nlp = spacy.load('en', disable=['parser', 'ner'])\n",
        "\n",
        "# Do lemmatization keeping only noun, adj, vb, adv\n",
        "data_lemmatized = lemmatization(data_words_bigrams, allowed_postags=['NOUN', 'ADJ', 'VERB', 'ADV'])\n",
        "\n",
        "print(data_lemmatized[:1])"
      ],
      "execution_count": 17,
      "outputs": [
        {
          "output_type": "stream",
          "text": [
            "[['funcion']]\n"
          ],
          "name": "stdout"
        }
      ]
    },
    {
      "metadata": {
        "id": "95_--j0sZwTj",
        "colab_type": "code",
        "outputId": "c97d50d8-0c41-4e68-a97a-726fde6ebec1",
        "colab": {
          "base_uri": "https://localhost:8080/",
          "height": 34
        }
      },
      "cell_type": "code",
      "source": [
        "# Create Dictionary\n",
        "id2word = corpora.Dictionary(data_lemmatized)\n",
        "\n",
        "# Create Corpus\n",
        "texts = data_lemmatized\n",
        "\n",
        "# Term Document Frequency\n",
        "corpus = [id2word.doc2bow(text) for text in texts]\n",
        "\n",
        "# View\n",
        "print(corpus[:1])"
      ],
      "execution_count": 18,
      "outputs": [
        {
          "output_type": "stream",
          "text": [
            "[[(0, 1)]]\n"
          ],
          "name": "stdout"
        }
      ]
    },
    {
      "metadata": {
        "id": "s5n2nRzOZwTm",
        "colab_type": "code",
        "outputId": "6c79f897-b4f9-4c5f-c05d-bdd2311bbc3a",
        "colab": {
          "base_uri": "https://localhost:8080/",
          "height": 34
        }
      },
      "cell_type": "code",
      "source": [
        "id2word[0]"
      ],
      "execution_count": 19,
      "outputs": [
        {
          "output_type": "execute_result",
          "data": {
            "text/plain": [
              "'funcion'"
            ]
          },
          "metadata": {
            "tags": []
          },
          "execution_count": 19
        }
      ]
    },
    {
      "metadata": {
        "id": "jCC8PUMFZwTp",
        "colab_type": "code",
        "outputId": "1954225c-f050-4ada-909a-9dc2aee296af",
        "colab": {
          "base_uri": "https://localhost:8080/",
          "height": 34
        }
      },
      "cell_type": "code",
      "source": [
        "# Human readable format of corpus (term-frequency)\n",
        "[[(id2word[id], freq) for id, freq in cp] for cp in corpus[:1]]"
      ],
      "execution_count": 20,
      "outputs": [
        {
          "output_type": "execute_result",
          "data": {
            "text/plain": [
              "[[('funcion', 1)]]"
            ]
          },
          "metadata": {
            "tags": []
          },
          "execution_count": 20
        }
      ]
    },
    {
      "metadata": {
        "id": "DhRVUDlUZwTr",
        "colab_type": "code",
        "colab": {}
      },
      "cell_type": "code",
      "source": [
        "# Build LDA model\n",
        "lda_model = gensim.models.ldamodel.LdaModel(corpus=corpus,\n",
        "                                           id2word=id2word,\n",
        "                                           num_topics=20, \n",
        "                                           random_state=100,\n",
        "                                           update_every=1,\n",
        "                                           chunksize=100,\n",
        "                                           passes=10,\n",
        "                                           alpha='auto',\n",
        "                                           per_word_topics=True)"
      ],
      "execution_count": 0,
      "outputs": []
    },
    {
      "metadata": {
        "id": "uY9A2AipZwTt",
        "colab_type": "code",
        "outputId": "e5630d75-8a40-4133-af89-6dc9327bacb2",
        "colab": {
          "base_uri": "https://localhost:8080/",
          "height": 1438
        }
      },
      "cell_type": "code",
      "source": [
        "# Print the Keyword in the 10 topics\n",
        "pprint(lda_model.print_topics())\n",
        "doc_lda = lda_model[corpus]"
      ],
      "execution_count": 22,
      "outputs": [
        {
          "output_type": "stream",
          "text": [
            "[(0,\n",
            "  '0.071*\"first\" + 0.063*\"hold\" + 0.043*\"keep\" + 0.036*\"back\" + '\n",
            "  '0.035*\"however\" + 0.031*\"different\" + 0.028*\"technology\" + 0.028*\"open\" + '\n",
            "  '0.024*\"vr\" + 0.024*\"top\"'),\n",
            " (1,\n",
            "  '0.181*\"product\" + 0.163*\"would\" + 0.088*\"great\" + 0.071*\"need\" + '\n",
            "  '0.050*\"content\" + 0.037*\"enough\" + 0.035*\"recommend\" + 0.034*\"nice\" + '\n",
            "  '0.026*\"star\" + 0.020*\"other\"'),\n",
            " (2,\n",
            "  '0.079*\"see\" + 0.075*\"come\" + 0.069*\"take\" + 0.065*\"head\" + 0.048*\"side\" + '\n",
            "  '0.048*\"strap\" + 0.044*\"goggle\" + 0.034*\"may\" + 0.023*\"velcro\" + '\n",
            "  '0.022*\"world\"'),\n",
            " (3,\n",
            "  '0.212*\"really\" + 0.106*\"download\" + 0.099*\"cool\" + 0.079*\"something\" + '\n",
            "  '0.049*\"opinion\" + 0.033*\"fold\" + 0.021*\"year\" + 0.020*\"walk\" + 0.018*\"cost\" '\n",
            "  '+ 0.018*\"effect\"'),\n",
            " (4,\n",
            "  '0.093*\"time\" + 0.048*\"nose\" + 0.043*\"bit\" + 0.038*\"amazing\" + 0.035*\"focus\" '\n",
            "  '+ 0.034*\"long\" + 0.031*\"image\" + 0.031*\"pad\" + 0.028*\"magnet\" + '\n",
            "  '0.022*\"simply\"'),\n",
            " (5,\n",
            "  '0.140*\"try\" + 0.102*\"device\" + 0.058*\"have\" + 0.036*\"definitely\" + '\n",
            "  '0.029*\"simple\" + 0.028*\"hand\" + 0.024*\"pro\" + 0.021*\"change\" + '\n",
            "  '0.020*\"spend\" + 0.018*\"super\"'),\n",
            " (6,\n",
            "  '0.232*\"phone\" + 0.089*\"work\" + 0.076*\"also\" + 0.063*\"well\" + 0.045*\"think\" '\n",
            "  '+ 0.041*\"still\" + 0.035*\"place\" + 0.029*\"comfortable\" + 0.020*\"problem\" + '\n",
            "  '0.020*\"space\"'),\n",
            " (7,\n",
            "  '0.163*\"headset\" + 0.150*\"experience\" + 0.131*\"make\" + 0.035*\"store\" + '\n",
            "  '0.035*\"minute\" + 0.025*\"item\" + 0.023*\"plastic\" + 0.021*\"sit\" + '\n",
            "  '0.016*\"next\" + 0.015*\"leave\"'),\n",
            " (8,\n",
            "  '0.181*\"cardboard\" + 0.088*\"good\" + 0.071*\"game\" + 0.065*\"virtual\" + '\n",
            "  '0.058*\"reality\" + 0.047*\"easy\" + 0.040*\"set\" + 0.032*\"viewer\" + '\n",
            "  '0.026*\"actually\" + 0.022*\"far\"'),\n",
            " (9,\n",
            "  '0.121*\"review\" + 0.077*\"feel\" + 0.056*\"eye\" + 0.052*\"quality\" + '\n",
            "  '0.051*\"pretty\" + 0.042*\"iphone\" + 0.034*\"big\" + 0.034*\"many\" + '\n",
            "  '0.031*\"adjust\" + 0.030*\"face\"'),\n",
            " (10,\n",
            "  '0.143*\"gear\" + 0.104*\"samsung\" + 0.088*\"honest\" + 0.061*\"discount\" + '\n",
            "  '0.061*\"exchange\" + 0.050*\"love\" + 0.048*\"unbiased\" + 0.020*\"hootoo\" + '\n",
            "  '0.020*\"amazon\" + 0.016*\"ever\"'),\n",
            " (11,\n",
            "  '0.105*\"thing\" + 0.086*\"even\" + 0.083*\"much\" + 0.044*\"movie\" + '\n",
            "  '0.034*\"available\" + 0.033*\"resolution\" + 0.032*\"expect\" + 0.028*\"provide\" + '\n",
            "  '0.027*\"pair\" + 0.025*\"order\"'),\n",
            " (12,\n",
            "  '0.073*\"s\" + 0.049*\"purchase\" + 0.041*\"application\" + 0.029*\"degree\" + '\n",
            "  '0.027*\"that\" + 0.027*\"future\" + 0.025*\"expensive\" + 0.022*\"photo\" + '\n",
            "  '0.019*\"smartphone\" + 0.018*\"there\"'),\n",
            " (13,\n",
            "  '0.161*\"app\" + 0.061*\"screen\" + 0.056*\"fit\" + 0.045*\"case\" + 0.043*\"give\" + '\n",
            "  '0.040*\"little\" + 0.038*\"note\" + 0.031*\"button\" + 0.026*\"new\" + '\n",
            "  '0.026*\"piece\"'),\n",
            " (14,\n",
            "  '0.140*\"use\" + 0.105*\"look\" + 0.098*\"video\" + 0.065*\"receive\" + '\n",
            "  '0.064*\"watch\" + 0.036*\"galaxy\" + 0.033*\"issue\" + 0.029*\"help\" + '\n",
            "  '0.029*\"never\" + 0.024*\"everything\"'),\n",
            " (15,\n",
            "  '0.148*\"not\" + 0.124*\"get\" + 0.082*\"do\" + 0.079*\"be\" + 0.049*\"find\" + '\n",
            "  '0.033*\"could\" + 0.029*\"know\" + 0.027*\"oculus\" + 0.026*\"include\" + '\n",
            "  '0.021*\"can\"'),\n",
            " (16,\n",
            "  '0.075*\"lens\" + 0.074*\"put\" + 0.064*\"play\" + 0.049*\"view\" + 0.047*\"price\" + '\n",
            "  '0.043*\"together\" + 0.041*\"right\" + 0.037*\"able\" + 0.033*\"small\" + '\n",
            "  '0.024*\"move\"'),\n",
            " (17,\n",
            "  '0.096*\"want\" + 0.094*\"way\" + 0.078*\"say\" + 0.060*\"picture\" + '\n",
            "  '0.056*\"instruction\" + 0.033*\"show\" + 0.025*\"become\" + 0.025*\"awesome\" + '\n",
            "  '0.024*\"clear\" + 0.022*\"number\"'),\n",
            " (18,\n",
            "  '0.165*\"glass\" + 0.069*\"buy\" + 0.064*\"wear\" + 0.054*\"people\" + '\n",
            "  '0.025*\"figure\" + 0.023*\"couple\" + 0.022*\"ipd\" + 0.021*\"battery\" + '\n",
            "  '0.021*\"tell\" + 0.021*\"stuff\"'),\n",
            " (19,\n",
            "  '0.153*\"go\" + 0.084*\"fun\" + 0.073*\"free\" + 0.066*\"lot\" + 0.058*\"controller\" '\n",
            "  '+ 0.053*\"sure\" + 0.032*\"read\" + 0.032*\"cheap\" + 0.026*\"worth\" + '\n",
            "  '0.025*\"adjustable\"')]\n"
          ],
          "name": "stdout"
        }
      ]
    },
    {
      "metadata": {
        "id": "Svu1CVwpZwTw",
        "colab_type": "code",
        "outputId": "09879a14-a6aa-403d-b40e-2ab73badf528",
        "colab": {
          "base_uri": "https://localhost:8080/",
          "height": 87
        }
      },
      "cell_type": "code",
      "source": [
        "# Compute Perplexity\n",
        "print('\\nPerplexity: ', lda_model.log_perplexity(corpus))  # a measure of how good the model is. lower the better.\n",
        "\n",
        "# Compute Coherence Score\n",
        "coherence_model_lda = CoherenceModel(model=lda_model, texts=data_lemmatized, dictionary=id2word, coherence='c_v')\n",
        "coherence_lda = coherence_model_lda.get_coherence()\n",
        "print('\\nCoherence Score: ', coherence_lda)"
      ],
      "execution_count": 23,
      "outputs": [
        {
          "output_type": "stream",
          "text": [
            "\n",
            "Perplexity:  -7.193229615138423\n",
            "\n",
            "Coherence Score:  0.27652537881797573\n"
          ],
          "name": "stdout"
        }
      ]
    },
    {
      "metadata": {
        "id": "nDz0k633ZwTz",
        "colab_type": "code",
        "outputId": "349ec82a-fbc4-4631-f4ce-b67332ac78c7",
        "colab": {
          "base_uri": "https://localhost:8080/",
          "height": 860
        }
      },
      "cell_type": "code",
      "source": [
        "# Visualize the topics\n",
        "pyLDAvis.enable_notebook()\n",
        "vis = pyLDAvis.gensim.prepare(lda_model, corpus, id2word)\n",
        "vis"
      ],
      "execution_count": 24,
      "outputs": [
        {
          "output_type": "execute_result",
          "data": {
            "text/html": [
              "\n",
              "<link rel=\"stylesheet\" type=\"text/css\" href=\"https://cdn.rawgit.com/bmabey/pyLDAvis/files/ldavis.v1.0.0.css\">\n",
              "\n",
              "\n",
              "<div id=\"ldavis_el1941397070541280085904134017\"></div>\n",
              "<script type=\"text/javascript\">\n",
              "\n",
              "var ldavis_el1941397070541280085904134017_data = {\"mdsDat\": {\"Freq\": [8.498781204223633, 8.12212085723877, 7.096648216247559, 6.881135940551758, 6.213256359100342, 5.810004234313965, 5.425231456756592, 5.218257427215576, 4.986952304840088, 4.87380838394165, 4.787095069885254, 4.568715572357178, 3.9515740871429443, 3.866448163986206, 3.797835111618042, 3.740792751312256, 3.5699799060821533, 3.106558084487915, 2.9839913845062256, 2.5008161067962646], \"cluster\": [1, 1, 1, 1, 1, 1, 1, 1, 1, 1, 1, 1, 1, 1, 1, 1, 1, 1, 1, 1], \"topics\": [1, 2, 3, 4, 5, 6, 7, 8, 9, 10, 11, 12, 13, 14, 15, 16, 17, 18, 19, 20], \"x\": [-0.2860094314736598, -0.14997447729525892, -0.13377002999552626, -0.23109317536756893, -0.012688770605655894, -0.012537096675262156, 0.015402287173765303, 0.02030394708455037, 0.0075952971470051745, 0.03162995063812384, 0.0349028132898888, 0.04421739428270426, 0.06635125669537376, 0.07486040762832491, 0.07909854379342979, 0.07056778601157451, 0.08021385859228353, 0.09184571636221896, 0.09709926669058551, 0.11198445602310379], \"y\": [0.19251552239997505, -0.36408609621599264, -0.11764321505745813, 0.1732513953715832, -0.08125357405462523, -0.02058848588546122, -0.015764838685244108, -0.0018979422093278674, -0.030725979075102806, -0.002316935267716614, -0.03558861367590862, 0.015691789780145755, 0.030868195737544256, 0.02884529857020533, 0.03659277577649331, 0.030037987664406154, 0.0416284582975401, 0.04190537190353343, 0.040228044385012686, 0.038300840240397635]}, \"tinfo\": {\"Category\": [\"Default\", \"Default\", \"Default\", \"Default\", \"Default\", \"Default\", \"Default\", \"Default\", \"Default\", \"Default\", \"Default\", \"Default\", \"Default\", \"Default\", \"Default\", \"Default\", \"Default\", \"Default\", \"Default\", \"Default\", \"Default\", \"Default\", \"Default\", \"Default\", \"Default\", \"Default\", \"Default\", \"Default\", \"Default\", \"Default\", \"Topic1\", \"Topic1\", \"Topic1\", \"Topic1\", \"Topic1\", \"Topic1\", \"Topic1\", \"Topic1\", \"Topic1\", \"Topic1\", \"Topic1\", \"Topic1\", \"Topic1\", \"Topic1\", \"Topic1\", \"Topic1\", \"Topic1\", \"Topic1\", \"Topic1\", \"Topic1\", \"Topic1\", \"Topic1\", \"Topic1\", \"Topic1\", \"Topic1\", \"Topic1\", \"Topic1\", \"Topic1\", \"Topic1\", \"Topic1\", \"Topic2\", \"Topic2\", \"Topic2\", \"Topic2\", \"Topic2\", \"Topic2\", \"Topic2\", \"Topic2\", \"Topic2\", \"Topic2\", \"Topic2\", \"Topic2\", \"Topic2\", \"Topic2\", \"Topic2\", \"Topic2\", \"Topic2\", \"Topic2\", \"Topic2\", \"Topic2\", \"Topic2\", \"Topic2\", \"Topic2\", \"Topic2\", \"Topic2\", \"Topic2\", \"Topic2\", \"Topic2\", \"Topic2\", \"Topic2\", \"Topic2\", \"Topic3\", \"Topic3\", \"Topic3\", \"Topic3\", \"Topic3\", \"Topic3\", \"Topic3\", \"Topic3\", \"Topic3\", \"Topic3\", \"Topic3\", \"Topic3\", \"Topic3\", \"Topic3\", \"Topic3\", \"Topic3\", \"Topic3\", \"Topic3\", \"Topic3\", \"Topic3\", \"Topic3\", \"Topic3\", \"Topic3\", \"Topic3\", \"Topic3\", \"Topic3\", \"Topic3\", \"Topic3\", \"Topic3\", \"Topic3\", \"Topic4\", \"Topic4\", \"Topic4\", \"Topic4\", \"Topic4\", \"Topic4\", \"Topic4\", \"Topic4\", \"Topic4\", \"Topic4\", \"Topic4\", \"Topic4\", \"Topic4\", \"Topic4\", \"Topic4\", \"Topic4\", \"Topic4\", \"Topic4\", \"Topic4\", \"Topic4\", \"Topic4\", \"Topic4\", \"Topic4\", \"Topic4\", \"Topic4\", \"Topic4\", \"Topic4\", \"Topic4\", \"Topic4\", \"Topic4\", \"Topic4\", \"Topic5\", \"Topic5\", \"Topic5\", \"Topic5\", \"Topic5\", \"Topic5\", \"Topic5\", \"Topic5\", \"Topic5\", \"Topic5\", \"Topic5\", \"Topic5\", \"Topic5\", \"Topic5\", \"Topic5\", \"Topic5\", \"Topic5\", \"Topic5\", \"Topic5\", \"Topic5\", \"Topic5\", \"Topic5\", \"Topic5\", \"Topic5\", \"Topic5\", \"Topic5\", \"Topic5\", \"Topic5\", \"Topic5\", \"Topic5\", \"Topic5\", \"Topic6\", \"Topic6\", \"Topic6\", \"Topic6\", \"Topic6\", \"Topic6\", \"Topic6\", \"Topic6\", \"Topic6\", \"Topic6\", \"Topic6\", \"Topic6\", \"Topic6\", \"Topic6\", \"Topic6\", \"Topic6\", \"Topic6\", \"Topic6\", \"Topic6\", \"Topic6\", \"Topic6\", \"Topic6\", \"Topic6\", \"Topic6\", \"Topic6\", \"Topic6\", \"Topic6\", \"Topic6\", \"Topic6\", \"Topic6\", \"Topic7\", \"Topic7\", \"Topic7\", \"Topic7\", \"Topic7\", \"Topic7\", \"Topic7\", \"Topic7\", \"Topic7\", \"Topic7\", \"Topic7\", \"Topic7\", \"Topic7\", \"Topic7\", \"Topic7\", \"Topic7\", \"Topic7\", \"Topic7\", \"Topic7\", \"Topic7\", \"Topic7\", \"Topic7\", \"Topic7\", \"Topic7\", \"Topic7\", \"Topic7\", \"Topic7\", \"Topic7\", \"Topic7\", \"Topic7\", \"Topic8\", \"Topic8\", \"Topic8\", \"Topic8\", \"Topic8\", \"Topic8\", \"Topic8\", \"Topic8\", \"Topic8\", \"Topic8\", \"Topic8\", \"Topic8\", \"Topic8\", \"Topic8\", \"Topic8\", \"Topic8\", \"Topic8\", \"Topic8\", \"Topic8\", \"Topic8\", \"Topic8\", \"Topic8\", \"Topic8\", \"Topic8\", \"Topic8\", \"Topic8\", \"Topic8\", \"Topic8\", \"Topic8\", \"Topic8\", \"Topic9\", \"Topic9\", \"Topic9\", \"Topic9\", \"Topic9\", \"Topic9\", \"Topic9\", \"Topic9\", \"Topic9\", \"Topic9\", \"Topic9\", \"Topic9\", \"Topic9\", \"Topic9\", \"Topic9\", \"Topic9\", \"Topic9\", \"Topic9\", \"Topic9\", \"Topic9\", \"Topic9\", \"Topic9\", \"Topic9\", \"Topic9\", \"Topic9\", \"Topic9\", \"Topic9\", \"Topic9\", \"Topic9\", \"Topic9\", \"Topic9\", \"Topic10\", \"Topic10\", \"Topic10\", \"Topic10\", \"Topic10\", \"Topic10\", \"Topic10\", \"Topic10\", \"Topic10\", \"Topic10\", \"Topic10\", \"Topic10\", \"Topic10\", \"Topic10\", \"Topic10\", \"Topic10\", \"Topic10\", \"Topic10\", \"Topic10\", \"Topic10\", \"Topic10\", \"Topic10\", \"Topic10\", \"Topic10\", \"Topic10\", \"Topic10\", \"Topic10\", \"Topic10\", \"Topic10\", \"Topic10\", \"Topic11\", \"Topic11\", \"Topic11\", \"Topic11\", \"Topic11\", \"Topic11\", \"Topic11\", \"Topic11\", \"Topic11\", \"Topic11\", \"Topic11\", \"Topic11\", \"Topic11\", \"Topic11\", \"Topic11\", \"Topic11\", \"Topic11\", \"Topic11\", \"Topic11\", \"Topic11\", \"Topic11\", \"Topic11\", \"Topic11\", \"Topic11\", \"Topic11\", \"Topic11\", \"Topic11\", \"Topic11\", \"Topic11\", \"Topic11\", \"Topic12\", \"Topic12\", \"Topic12\", \"Topic12\", \"Topic12\", \"Topic12\", \"Topic12\", \"Topic12\", \"Topic12\", \"Topic12\", \"Topic12\", \"Topic12\", \"Topic12\", \"Topic12\", \"Topic12\", \"Topic12\", \"Topic12\", \"Topic12\", \"Topic12\", \"Topic12\", \"Topic12\", \"Topic12\", \"Topic12\", \"Topic12\", \"Topic12\", \"Topic12\", \"Topic12\", \"Topic12\", \"Topic12\", \"Topic12\", \"Topic13\", \"Topic13\", \"Topic13\", \"Topic13\", \"Topic13\", \"Topic13\", \"Topic13\", \"Topic13\", \"Topic13\", \"Topic13\", \"Topic13\", \"Topic13\", \"Topic13\", \"Topic13\", \"Topic13\", \"Topic13\", \"Topic13\", \"Topic13\", \"Topic13\", \"Topic13\", \"Topic13\", \"Topic13\", \"Topic13\", \"Topic13\", \"Topic13\", \"Topic13\", \"Topic13\", \"Topic13\", \"Topic13\", \"Topic13\", \"Topic14\", \"Topic14\", \"Topic14\", \"Topic14\", \"Topic14\", \"Topic14\", \"Topic14\", \"Topic14\", \"Topic14\", \"Topic14\", \"Topic14\", \"Topic14\", \"Topic14\", \"Topic14\", \"Topic14\", \"Topic14\", \"Topic14\", \"Topic14\", \"Topic14\", \"Topic14\", \"Topic14\", \"Topic14\", \"Topic14\", \"Topic14\", \"Topic14\", \"Topic14\", \"Topic14\", \"Topic14\", \"Topic14\", \"Topic14\", \"Topic15\", \"Topic15\", \"Topic15\", \"Topic15\", \"Topic15\", \"Topic15\", \"Topic15\", \"Topic15\", \"Topic15\", \"Topic15\", \"Topic15\", \"Topic15\", \"Topic15\", \"Topic15\", \"Topic15\", \"Topic15\", \"Topic15\", \"Topic15\", \"Topic15\", \"Topic15\", \"Topic15\", \"Topic15\", \"Topic15\", \"Topic15\", \"Topic15\", \"Topic15\", \"Topic15\", \"Topic15\", \"Topic15\", \"Topic15\", \"Topic16\", \"Topic16\", \"Topic16\", \"Topic16\", \"Topic16\", \"Topic16\", \"Topic16\", \"Topic16\", \"Topic16\", \"Topic16\", \"Topic16\", \"Topic16\", \"Topic16\", \"Topic16\", \"Topic16\", \"Topic16\", \"Topic16\", \"Topic16\", \"Topic16\", \"Topic16\", \"Topic16\", \"Topic16\", \"Topic16\", \"Topic16\", \"Topic16\", \"Topic16\", \"Topic16\", \"Topic16\", \"Topic16\", \"Topic16\", \"Topic17\", \"Topic17\", \"Topic17\", \"Topic17\", \"Topic17\", \"Topic17\", \"Topic17\", \"Topic17\", \"Topic17\", \"Topic17\", \"Topic17\", \"Topic17\", \"Topic17\", \"Topic17\", \"Topic17\", \"Topic17\", \"Topic17\", \"Topic17\", \"Topic17\", \"Topic17\", \"Topic17\", \"Topic17\", \"Topic17\", \"Topic17\", \"Topic17\", \"Topic17\", \"Topic17\", \"Topic17\", \"Topic17\", \"Topic17\", \"Topic18\", \"Topic18\", \"Topic18\", \"Topic18\", \"Topic18\", \"Topic18\", \"Topic18\", \"Topic18\", \"Topic18\", \"Topic18\", \"Topic18\", \"Topic18\", \"Topic18\", \"Topic18\", \"Topic18\", \"Topic18\", \"Topic18\", \"Topic18\", \"Topic18\", \"Topic18\", \"Topic18\", \"Topic18\", \"Topic18\", \"Topic18\", \"Topic18\", \"Topic18\", \"Topic18\", \"Topic18\", \"Topic18\", \"Topic18\", \"Topic19\", \"Topic19\", \"Topic19\", \"Topic19\", \"Topic19\", \"Topic19\", \"Topic19\", \"Topic19\", \"Topic19\", \"Topic19\", \"Topic19\", \"Topic19\", \"Topic19\", \"Topic19\", \"Topic19\", \"Topic19\", \"Topic19\", \"Topic19\", \"Topic19\", \"Topic19\", \"Topic19\", \"Topic19\", \"Topic19\", \"Topic19\", \"Topic19\", \"Topic19\", \"Topic19\", \"Topic19\", \"Topic19\", \"Topic19\", \"Topic19\", \"Topic20\", \"Topic20\", \"Topic20\", \"Topic20\", \"Topic20\", \"Topic20\", \"Topic20\", \"Topic20\", \"Topic20\", \"Topic20\", \"Topic20\", \"Topic20\", \"Topic20\", \"Topic20\", \"Topic20\", \"Topic20\", \"Topic20\", \"Topic20\", \"Topic20\", \"Topic20\", \"Topic20\", \"Topic20\", \"Topic20\", \"Topic20\", \"Topic20\", \"Topic20\", \"Topic20\", \"Topic20\", \"Topic20\", \"Topic20\"], \"Freq\": [7074.0, 6293.0, 5387.0, 4749.0, 3875.0, 4517.0, 3478.0, 3344.0, 2713.0, 3074.0, 3123.0, 3019.0, 2696.0, 2348.0, 2372.0, 3065.0, 2199.0, 2282.0, 2993.0, 2718.0, 2888.0, 2359.0, 2188.0, 2457.0, 2311.0, 2108.0, 1788.0, 2274.0, 1831.0, 1899.0, 5386.86474609375, 4517.712890625, 2993.697998046875, 2888.5556640625, 1797.5064697265625, 1185.7939453125, 1064.06884765625, 987.3552856445312, 934.943603515625, 779.2232666015625, 569.07763671875, 524.5968627929688, 493.80615234375, 455.5145568847656, 452.5955505371094, 408.89178466796875, 366.54547119140625, 349.9538879394531, 347.8562927246094, 335.78179931640625, 330.4413757324219, 304.7381896972656, 270.45709228515625, 225.75050354003906, 206.71170043945312, 196.3946990966797, 189.6260528564453, 180.3441619873047, 175.88304138183594, 170.2470703125, 6293.353515625, 3064.820556640625, 2456.77734375, 2274.546630859375, 2005.8388671875, 1642.347412109375, 1399.0411376953125, 1121.2886962890625, 917.1070556640625, 760.9481811523438, 732.3353881835938, 727.4260864257812, 624.1930541992188, 621.3595581054688, 540.9619750976562, 527.1874389648438, 447.9239196777344, 341.4708251953125, 317.8966064453125, 317.5736083984375, 297.27520751953125, 296.83319091796875, 295.68316650390625, 294.9375915527344, 238.6878204345703, 212.08877563476562, 207.0857696533203, 196.07244873046875, 183.06475830078125, 169.8949737548828, 380.9728088378906, 7074.31201171875, 2718.541015625, 2311.74853515625, 1908.990966796875, 1375.897705078125, 1252.2830810546875, 1054.7235107421875, 896.9133911132812, 622.9634399414062, 616.4495239257812, 526.1743774414062, 478.3429870605469, 441.7424621582031, 388.90869140625, 384.9184875488281, 346.7850646972656, 345.3264465332031, 335.6944580078125, 305.8973083496094, 277.3512268066406, 248.5108642578125, 221.2236785888672, 203.4535675048828, 203.3114471435547, 183.33543395996094, 178.6287078857422, 163.08004760742188, 136.55770874023438, 134.9158477783203, 131.8667449951172, 4749.47607421875, 1665.9176025390625, 1314.7044677734375, 1257.326171875, 1192.043212890625, 1115.1776123046875, 909.0726318359375, 759.3935546875, 757.6300659179688, 755.0716552734375, 636.227294921875, 586.2476196289062, 529.1111450195312, 518.6774291992188, 516.527099609375, 417.9168701171875, 384.2799987792969, 370.73291015625, 345.19482421875, 329.6971435546875, 280.47222900390625, 277.0796813964844, 268.18768310546875, 244.07485961914062, 223.2486114501953, 206.06085205078125, 204.03028869628906, 200.53366088867188, 176.62339782714844, 169.47711181640625, 1790.522216796875, 2107.98486328125, 1995.896484375, 1828.643310546875, 1743.7060546875, 1285.342529296875, 1266.9793701171875, 1161.982177734375, 895.9910888671875, 616.4595336914062, 598.2420043945312, 529.3529052734375, 487.7748718261719, 455.5790100097656, 379.9338073730469, 326.5248107910156, 321.54754638671875, 269.3302917480469, 260.9083557128906, 254.01162719726562, 251.76419067382812, 247.96920776367188, 229.43104553222656, 222.4484100341797, 220.95729064941406, 211.0381317138672, 209.8363494873047, 209.51922607421875, 204.83969116210938, 181.8334503173828, 171.5587615966797, 558.9851684570312, 3019.6103515625, 1929.93212890625, 1386.215087890625, 1286.07080078125, 1283.477294921875, 1043.857421875, 859.5582275390625, 839.8079833984375, 760.4502563476562, 740.2103271484375, 653.474609375, 634.7943115234375, 540.5089721679688, 508.2017517089844, 450.72479248046875, 419.448486328125, 419.1672058105469, 301.4886169433594, 286.7745056152344, 281.4520568847656, 270.631103515625, 250.89894104003906, 214.5935821533203, 214.21536254882812, 208.59417724609375, 182.5728759765625, 179.7511444091797, 177.7606658935547, 177.17884826660156, 176.34158325195312, 1746.9056396484375, 1714.746826171875, 1481.539794921875, 1139.05859375, 1090.690185546875, 990.284423828125, 947.345703125, 855.6381225585938, 761.7195434570312, 564.2371215820312, 535.5588989257812, 489.2454528808594, 418.711181640625, 398.32806396484375, 385.2794189453125, 366.23028564453125, 354.9582214355469, 349.7420349121094, 340.4549560546875, 321.2421569824219, 292.1239318847656, 279.6673278808594, 262.2833251953125, 220.84130859375, 180.72079467773438, 175.50929260253906, 175.29478454589844, 171.25144958496094, 168.39761352539062, 162.3732452392578, 3123.535888671875, 2359.719970703125, 2188.151611328125, 1459.8450927734375, 1433.0687255859375, 809.05908203125, 735.1455688476562, 657.7052612304688, 654.9058837890625, 535.6409301757812, 501.885498046875, 441.98126220703125, 416.4562683105469, 377.8767395019531, 316.0382385253906, 266.85760498046875, 228.7849884033203, 228.69386291503906, 219.42486572265625, 180.1038360595703, 175.18096923828125, 159.04737854003906, 154.49258422851562, 126.84830474853516, 119.4081802368164, 115.90935516357422, 115.50474548339844, 114.24471282958984, 106.91618347167969, 94.4561767578125, 3875.45263671875, 3478.251220703125, 1525.176025390625, 1075.622802734375, 790.9078979492188, 744.2374877929688, 720.9385986328125, 565.6018676757812, 418.7480773925781, 405.03936767578125, 250.04483032226562, 242.42552185058594, 225.99684143066406, 222.58224487304688, 183.17572021484375, 169.79873657226562, 158.5112762451172, 148.5758056640625, 130.0205078125, 123.46609497070312, 122.71185302734375, 113.05014038085938, 113.06239318847656, 99.52616119384766, 91.43418884277344, 89.3458251953125, 84.18446350097656, 81.3208236694336, 77.90779113769531, 76.69754028320312, 1884.598876953125, 1488.2869873046875, 1321.3333740234375, 896.5097045898438, 754.0670776367188, 735.5584106445312, 643.4765014648438, 590.7401123046875, 583.4759521484375, 496.3983459472656, 492.7610778808594, 393.89202880859375, 381.1828308105469, 367.3857421875, 335.760009765625, 312.0243835449219, 300.2886047363281, 294.7247009277344, 273.55902099609375, 268.6864929199219, 261.03668212890625, 243.44964599609375, 242.20726013183594, 232.38063049316406, 229.93360900878906, 208.09423828125, 195.8435821533203, 194.3428497314453, 180.42762756347656, 178.68392944335938, 158.35675048828125, 3343.9677734375, 3074.111328125, 2696.63525390625, 724.9525146484375, 721.6024780273438, 512.0475463867188, 474.69903564453125, 423.0863952636719, 319.5688171386719, 314.7733459472656, 263.2824401855469, 260.2650146484375, 250.63214111328125, 199.06483459472656, 181.8472900390625, 172.2154541015625, 165.99424743652344, 164.37220764160156, 146.8064727783203, 143.0444793701172, 142.2593994140625, 141.70948791503906, 134.32713317871094, 132.0561065673828, 129.82431030273438, 129.82652282714844, 127.82841491699219, 127.49944305419922, 126.83773803710938, 119.6325454711914, 1831.6590576171875, 945.071044921875, 849.6099243164062, 741.2884521484375, 688.6593017578125, 663.178466796875, 609.5496826171875, 606.1953735351562, 552.0608520507812, 424.29205322265625, 401.90863037109375, 354.24041748046875, 350.35675048828125, 346.90240478515625, 327.3642883300781, 290.4195251464844, 285.5025634765625, 254.0097198486328, 247.476806640625, 238.87486267089844, 231.88963317871094, 225.4747314453125, 218.9033966064453, 216.41775512695312, 216.37551879882812, 213.79725646972656, 202.4607391357422, 194.92739868164062, 175.38668823242188, 172.4031524658203, 1788.374755859375, 1451.9171142578125, 1412.4649658203125, 747.2508544921875, 580.3827514648438, 560.346923828125, 540.1762084960938, 475.5119323730469, 451.25860595703125, 424.947021484375, 418.61346435546875, 418.4704284667969, 399.8015441894531, 345.971923828125, 327.982177734375, 256.4621276855469, 250.77752685546875, 191.73716735839844, 172.72242736816406, 172.29244995117188, 171.09121704101562, 143.10861206054688, 138.6995086669922, 122.40364837646484, 115.53071594238281, 114.55215454101562, 107.646484375, 101.55973815917969, 96.13911437988281, 92.71220397949219, 2372.453369140625, 1720.77001953125, 1466.8511962890625, 1013.8367309570312, 1008.2958374023438, 835.2518310546875, 803.239990234375, 333.99578857421875, 324.5595397949219, 264.96417236328125, 229.56930541992188, 209.03221130371094, 208.0658721923828, 189.63589477539062, 179.4768829345703, 165.7588348388672, 149.35809326171875, 136.0057830810547, 134.16827392578125, 127.8625259399414, 124.572998046875, 123.75605010986328, 115.71708679199219, 112.01033020019531, 106.10702514648438, 104.9238052368164, 101.0665283203125, 99.10162353515625, 95.73743438720703, 83.13529205322266, 2281.9892578125, 1663.0445556640625, 939.232666015625, 587.0613403320312, 469.1648254394531, 461.08502197265625, 394.6914367675781, 338.51446533203125, 330.3875427246094, 301.2137756347656, 284.71795654296875, 253.96812438964844, 245.90185546875, 223.89666748046875, 221.4707489013672, 193.26385498046875, 175.97076416015625, 169.95755004882812, 167.672607421875, 160.2379150390625, 134.88180541992188, 134.36517333984375, 131.56581115722656, 125.92263793945312, 125.6829605102539, 121.23873901367188, 116.06827545166016, 115.06212615966797, 114.91032409667969, 112.60321807861328, 1546.0606689453125, 1504.150146484375, 1248.587158203125, 961.4337158203125, 896.0148315429688, 535.6851806640625, 409.07647705078125, 396.97979736328125, 386.4090881347656, 353.20013427734375, 350.1449279785156, 319.48419189453125, 311.29107666015625, 297.074462890625, 277.4597473144531, 243.47979736328125, 234.51602172851562, 233.37933349609375, 220.73573303222656, 201.96095275878906, 180.0382080078125, 172.98069763183594, 171.72488403320312, 145.515869140625, 128.58724975585938, 118.71678924560547, 115.28076934814453, 101.22742462158203, 95.01367950439453, 92.61311340332031, 2347.912353515625, 1284.106689453125, 1115.6234130859375, 1005.7037963867188, 895.2568969726562, 814.9879150390625, 493.60382080078125, 486.262939453125, 402.4826354980469, 388.2191467285156, 373.33612060546875, 315.9335632324219, 291.9102783203125, 268.0311584472656, 233.80477905273438, 226.11138916015625, 223.16567993164062, 129.37445068359375, 116.10285186767578, 102.14728546142578, 97.77218627929688, 94.29646301269531, 93.58100128173828, 92.91915893554688, 90.5698013305664, 85.13291931152344, 83.85641479492188, 83.66200256347656, 83.24341583251953, 78.84166717529297, 2198.866943359375, 913.75146484375, 851.6712646484375, 716.7286987304688, 335.8804626464844, 309.4931640625, 289.01593017578125, 283.0890808105469, 282.8637390136719, 280.40191650390625, 247.14869689941406, 203.14039611816406, 201.3378143310547, 191.4879913330078, 184.6139373779297, 180.68687438964844, 170.2839813232422, 149.97698974609375, 147.06973266601562, 141.8235626220703, 138.2429656982422, 129.8372039794922, 129.25909423828125, 123.1722412109375, 122.8051986694336, 119.86738586425781, 96.75187683105469, 94.21896362304688, 84.51957702636719, 78.20037841796875, 2712.916015625, 1357.508056640625, 1264.8448486328125, 1009.0307006835938, 626.3865356445312, 416.69378662109375, 266.206787109375, 258.7427673339844, 234.79078674316406, 226.83924865722656, 205.7247772216797, 164.90354919433594, 160.6912078857422, 122.23658752441406, 121.9730224609375, 109.92933654785156, 101.92430877685547, 92.08206176757812, 85.35760498046875, 82.10700225830078, 80.42092895507812, 78.65602111816406, 71.30974578857422, 65.02214050292969, 60.096153259277344, 58.368316650390625, 54.12485885620117, 47.29822540283203, 47.039451599121094, 46.953453063964844, 50.817955017089844, 781.192138671875, 526.2781982421875, 443.2652282714844, 312.01165771484375, 288.2929382324219, 287.8930969238281, 263.458984375, 231.49884033203125, 204.79783630371094, 193.95510864257812, 188.92977905273438, 180.82272338867188, 164.75994873046875, 157.0635528564453, 150.05996704101562, 144.64881896972656, 131.9062957763672, 126.1581039428711, 110.42399597167969, 104.52703857421875, 100.02677917480469, 94.75053405761719, 94.03019714355469, 91.68999481201172, 87.75902557373047, 78.7641372680664, 76.637939453125, 74.63541412353516, 73.9138412475586, 72.32361602783203], \"Term\": [\"phone\", \"cardboard\", \"not\", \"app\", \"product\", \"get\", \"would\", \"headset\", \"really\", \"experience\", \"use\", \"review\", \"make\", \"go\", \"gear\", \"good\", \"glass\", \"try\", \"do\", \"work\", \"be\", \"look\", \"video\", \"game\", \"also\", \"see\", \"thing\", \"virtual\", \"time\", \"great\", \"not\", \"get\", \"do\", \"be\", \"find\", \"could\", \"know\", \"oculus\", \"include\", \"can\", \"will\", \"kid\", \"mean\", \"one\", \"enjoy\", \"anything\", \"motion_sickness\", \"old\", \"insert\", \"fact\", \"money\", \"must\", \"basically\", \"happen\", \"headband\", \"impressed\", \"anywhere\", \"update\", \"annoying\", \"finally\", \"cardboard\", \"good\", \"game\", \"virtual\", \"reality\", \"easy\", \"set\", \"viewer\", \"actually\", \"far\", \"start\", \"box\", \"kit\", \"part\", \"assemble\", \"google\", \"friend\", \"direction\", \"ready\", \"assembly\", \"stick\", \"setup\", \"sturdy\", \"idea\", \"minkanak\", \"prior\", \"actual\", \"graphic\", \"mm\", \"mine\", \"test\", \"phone\", \"work\", \"also\", \"well\", \"think\", \"still\", \"place\", \"comfortable\", \"problem\", \"space\", \"large\", \"quite\", \"con\", \"edge\", \"android\", \"notice\", \"inch\", \"attach\", \"smart\", \"tray\", \"slot\", \"access\", \"arrive\", \"cut\", \"decide\", \"material\", \"responsive\", \"particular\", \"launch\", \"tip\", \"app\", \"fit\", \"case\", \"give\", \"little\", \"note\", \"button\", \"new\", \"piece\", \"seem\", \"require\", \"overall\", \"hour\", \"unit\", \"version\", \"kind\", \"huge\", \"like\", \"touch\", \"overheat\", \"check\", \"option\", \"click\", \"vision\", \"call\", \"press\", \"rest\", \"wish\", \"favorite\", \"online\", \"screen\", \"see\", \"come\", \"take\", \"head\", \"side\", \"strap\", \"goggle\", \"may\", \"velcro\", \"world\", \"turn\", \"front\", \"control\", \"light\", \"remote\", \"clean\", \"pixel\", \"bluetooth\", \"everyone\", \"forehead\", \"room\", \"truly\", \"wait\", \"mind\", \"discomfort\", \"tab\", \"completely\", \"totally\", \"search\", \"separate\", \"allow\", \"review\", \"feel\", \"eye\", \"quality\", \"pretty\", \"iphone\", \"big\", \"many\", \"adjust\", \"face\", \"let\", \"close\", \"design\", \"build\", \"day\", \"probably\", \"size\", \"base\", \"quickly\", \"perfect\", \"uncomfortable\", \"heavy\", \"comfort\", \"deal\", \"difficult\", \"distance\", \"connect\", \"thick\", \"happy\", \"center\", \"lens\", \"put\", \"play\", \"view\", \"price\", \"together\", \"right\", \"able\", \"small\", \"move\", \"point\", \"easily\", \"especially\", \"high\", \"bring\", \"around\", \"already\", \"almost\", \"end\", \"due\", \"stay\", \"away\", \"sometimes\", \"break\", \"body\", \"entire\", \"field\", \"decent\", \"immerse\", \"rating\", \"use\", \"look\", \"video\", \"receive\", \"watch\", \"galaxy\", \"issue\", \"help\", \"never\", \"everything\", \"fine\", \"immersive\", \"youtube\", \"compatible\", \"theater\", \"follow\", \"properly\", \"line\", \"tv\", \"individual\", \"excellent\", \"thank\", \"hole\", \"obviously\", \"mode\", \"excited\", \"evaluation\", \"manufacturer\", \"oil\", \"multiple\", \"product\", \"would\", \"need\", \"content\", \"enough\", \"recommend\", \"nice\", \"star\", \"other\", \"add\", \"package\", \"support\", \"unfortunately\", \"consumer\", \"seller\", \"neat\", \"quick\", \"view_master\", \"improve\", \"gamepad\", \"rubber_band\", \"limited\", \"disclaimer\", \"appreciate\", \"final\", \"bunch\", \"general\", \"usage\", \"customer\", \"information\", \"great\", \"first\", \"hold\", \"keep\", \"back\", \"however\", \"different\", \"technology\", \"open\", \"vr\", \"top\", \"compare\", \"camera\", \"slide\", \"always\", \"cover\", \"last\", \"run\", \"home\", \"type\", \"model\", \"plug\", \"step\", \"secure\", \"headphone\", \"extremely\", \"difference\", \"tape\", \"thought\", \"strong\", \"continue\", \"headset\", \"experience\", \"make\", \"store\", \"minute\", \"item\", \"plastic\", \"sit\", \"next\", \"leave\", \"consider\", \"low\", \"stop\", \"vive\", \"return\", \"telephone\", \"suppose\", \"charge\", \"fully\", \"tend\", \"likely\", \"basic\", \"anyway\", \"nicely\", \"suggest\", \"utilize\", \"main\", \"awhile\", \"course\", \"night\", \"time\", \"nose\", \"bit\", \"amazing\", \"focus\", \"long\", \"image\", \"pad\", \"magnet\", \"simply\", \"feature\", \"demo\", \"bad\", \"full\", \"perfectly\", \"adjustment\", \"area\", \"padding\", \"nothing\", \"pop\", \"select\", \"mention\", \"else\", \"fix\", \"fall\", \"push\", \"nfc\", \"depend\", \"short\", \"ability\", \"thing\", \"even\", \"much\", \"movie\", \"available\", \"resolution\", \"expect\", \"provide\", \"pair\", \"order\", \"real\", \"remove\", \"pay\", \"better\", \"software\", \"several\", \"second\", \"menu\", \"fairly\", \"imagine\", \"weight\", \"hardware\", \"brand\", \"attempt\", \"instal\", \"recognize\", \"fan\", \"naturally\", \"early\", \"fly\", \"gear\", \"samsung\", \"honest\", \"discount\", \"exchange\", \"love\", \"unbiased\", \"hootoo\", \"amazon\", \"ever\", \"absolutely\", \"slightly\", \"choose\", \"shoot\", \"child\", \"ask\", \"similar\", \"nexus\", \"useful\", \"year_old\", \"question\", \"solution\", \"best\", \"discounted_rate\", \"daughter\", \"choice\", \"disclosure\", \"young\", \"security\", \"stage\", \"try\", \"device\", \"have\", \"definitely\", \"simple\", \"hand\", \"pro\", \"change\", \"spend\", \"super\", \"yet\", \"life\", \"stand\", \"system\", \"reason\", \"hope\", \"ill\", \"user\", \"own\", \"soon\", \"introduce\", \"install\", \"instead\", \"wonder\", \"crazy\", \"chance\", \"non\", \"wonderful\", \"fantastic\", \"generation\", \"want\", \"way\", \"say\", \"picture\", \"instruction\", \"show\", \"become\", \"awesome\", \"clear\", \"number\", \"hard\", \"foam\", \"anyone\", \"hear\", \"understand\", \"begin\", \"netflix\", \"movement\", \"scan\", \"believe\", \"job\", \"exactly\", \"function\", \"match\", \"code\", \"door_effect\", \"pick\", \"ride\", \"explain\", \"word\", \"go\", \"fun\", \"free\", \"lot\", \"controller\", \"sure\", \"read\", \"cheap\", \"worth\", \"adjustable\", \"roller_coaster\", \"less\", \"whole\", \"family\", \"amount\", \"diopter\", \"explore\", \"hd\", \"specific\", \"pass\", \"forget\", \"jump\", \"portable\", \"concept\", \"website\", \"usually\", \"chair\", \"developer\", \"moga\", \"ruin\", \"glass\", \"buy\", \"wear\", \"people\", \"figure\", \"couple\", \"ipd\", \"battery\", \"tell\", \"stuff\", \"maybe\", \"range\", \"offer\", \"someone\", \"honestly\", \"son\", \"pull\", \"tight\", \"worry\", \"normally\", \"personally\", \"wide\", \"drive\", \"drain\", \"gadget\", \"power\", \"mark\", \"seat\", \"present\", \"glad\", \"really\", \"download\", \"cool\", \"something\", \"opinion\", \"fold\", \"year\", \"walk\", \"cost\", \"effect\", \"talk\", \"boy\", \"month\", \"personal\", \"tech\", \"influence\", \"dispatch\", \"awkward\", \"dinosaur\", \"confused\", \"concern\", \"pan\", \"behind\", \"accessible\", \"tune\", \"enter\", \"remain\", \"building\", \"sensor\", \"purchasing\", \"impulse\", \"s\", \"purchase\", \"application\", \"degree\", \"that\", \"future\", \"expensive\", \"photo\", \"smartphone\", \"there\", \"impressive\", \"learn\", \"gaming\", \"level\", \"create\", \"medium\", \"correct\", \"style\", \"affordable\", \"player\", \"ton\", \"display\", \"giant\", \"ne\", \"realistic\", \"what\", \"name\", \"forward\", \"milk\", \"various\"], \"Total\": [7074.0, 6293.0, 5387.0, 4749.0, 3875.0, 4517.0, 3478.0, 3344.0, 2713.0, 3074.0, 3123.0, 3019.0, 2696.0, 2348.0, 2372.0, 3065.0, 2199.0, 2282.0, 2993.0, 2718.0, 2888.0, 2359.0, 2188.0, 2457.0, 2311.0, 2108.0, 1788.0, 2274.0, 1831.0, 1899.0, 5387.095703125, 4517.94384765625, 2993.927001953125, 2888.78466796875, 1797.735595703125, 1186.0230712890625, 1064.2979736328125, 987.58447265625, 935.1727905273438, 779.4524536132812, 569.3068237304688, 524.8260498046875, 494.03546142578125, 455.7438659667969, 452.8248596191406, 409.12109375, 366.7747802734375, 350.1831970214844, 348.0856018066406, 336.0111083984375, 330.6706848144531, 304.9674987792969, 270.6864013671875, 225.97979736328125, 206.9409942626953, 196.62399291992188, 189.8553466796875, 180.57345581054688, 176.11233520507812, 170.4763641357422, 6293.583984375, 3065.048828125, 2457.005615234375, 2274.77490234375, 2006.067138671875, 1642.57568359375, 1399.2694091796875, 1121.5169677734375, 917.33544921875, 761.1765747070312, 732.5637817382812, 727.6544799804688, 624.4214477539062, 621.5879516601562, 541.1903686523438, 527.4158325195312, 448.1524353027344, 341.6993408203125, 318.1251220703125, 317.8021240234375, 297.50372314453125, 297.06170654296875, 295.91168212890625, 295.1661071777344, 238.9163055419922, 212.3172607421875, 207.3142547607422, 196.30093383789062, 183.29324340820312, 170.1234588623047, 385.0540466308594, 7074.54296875, 2718.769775390625, 2311.977294921875, 1909.2198486328125, 1376.1265869140625, 1252.511962890625, 1054.952392578125, 897.142333984375, 623.1923828125, 616.678466796875, 526.4033203125, 478.572021484375, 441.97149658203125, 389.1377258300781, 385.14752197265625, 347.01409912109375, 345.55548095703125, 335.9234924316406, 306.1263427734375, 277.58026123046875, 248.73988342285156, 221.45269775390625, 203.68258666992188, 203.54046630859375, 183.564453125, 178.85772705078125, 163.30906677246094, 136.78672790527344, 135.14486694335938, 132.09576416015625, 4749.70654296875, 1666.146240234375, 1314.93310546875, 1257.5548095703125, 1192.2718505859375, 1115.40625, 909.3013916015625, 759.622314453125, 757.8588256835938, 755.3004150390625, 636.4560546875, 586.4763793945312, 529.3399047851562, 518.9061889648438, 516.755859375, 418.14569091796875, 384.5088195800781, 370.96173095703125, 345.42364501953125, 329.92596435546875, 280.7010498046875, 277.3085021972656, 268.41650390625, 244.30368041992188, 223.47743225097656, 206.2896728515625, 204.2591094970703, 200.76248168945312, 176.8522186279297, 169.7059326171875, 1896.7857666015625, 2108.214599609375, 1996.1260986328125, 1828.8729248046875, 1743.9356689453125, 1285.5721435546875, 1267.208984375, 1162.2117919921875, 896.2208251953125, 616.6892700195312, 598.4717407226562, 529.5826416015625, 488.00469970703125, 455.808837890625, 380.16363525390625, 326.754638671875, 321.7773742675781, 269.56011962890625, 261.13818359375, 254.24142456054688, 251.99398803710938, 248.19900512695312, 229.6608428955078, 222.67820739746094, 221.1870880126953, 211.26792907714844, 210.06614685058594, 209.7490234375, 205.06948852539062, 182.06324768066406, 171.78855895996094, 639.2330322265625, 3019.838623046875, 1930.160400390625, 1386.443359375, 1286.299072265625, 1283.70556640625, 1044.085693359375, 859.78662109375, 840.036376953125, 760.6786499023438, 740.438720703125, 653.7030029296875, 635.022705078125, 540.7373657226562, 508.4302062988281, 450.9532470703125, 419.67694091796875, 419.3956604003906, 301.7170715332031, 287.0029602050781, 281.6805114746094, 270.85955810546875, 251.12738037109375, 214.822021484375, 214.4438018798828, 208.82261657714844, 182.8013153076172, 179.97958374023438, 177.98910522460938, 177.40728759765625, 176.5700225830078, 1747.134765625, 1714.9759521484375, 1481.7689208984375, 1139.2877197265625, 1090.9193115234375, 990.5136108398438, 947.5748901367188, 855.8673095703125, 761.94873046875, 564.46630859375, 535.7880859375, 489.4747009277344, 418.9404296875, 398.55731201171875, 385.5086669921875, 366.45953369140625, 355.1874694824219, 349.9712829589844, 340.6842041015625, 321.4714050292969, 292.3531799316406, 279.8965759277344, 262.5125732421875, 221.07052612304688, 180.95001220703125, 175.73851013183594, 175.5240020751953, 171.4806671142578, 168.6268310546875, 162.6024627685547, 3123.76513671875, 2359.94921875, 2188.380859375, 1460.07421875, 1433.2978515625, 809.2883911132812, 735.3748779296875, 657.9345703125, 655.1351928710938, 535.8702392578125, 502.11480712890625, 442.2105712890625, 416.6855773925781, 378.1060485839844, 316.2675476074219, 267.0869140625, 229.0142822265625, 228.92315673828125, 219.65415954589844, 180.3331298828125, 175.41026306152344, 159.27667236328125, 154.7218780517578, 127.07759094238281, 119.63746643066406, 116.13864135742188, 115.7340316772461, 114.4739990234375, 107.14546966552734, 94.68546295166016, 3875.679443359375, 3478.47802734375, 1525.4027099609375, 1075.8494873046875, 791.1347045898438, 744.4642944335938, 721.1654052734375, 565.8286743164062, 418.9749450683594, 405.2662353515625, 250.27166748046875, 242.65235900878906, 226.2236785888672, 222.80908203125, 183.40255737304688, 170.02557373046875, 158.7381134033203, 148.80264282226562, 130.24734497070312, 123.69291687011719, 122.93867492675781, 113.27696228027344, 113.28921508789062, 99.75298309326172, 91.6610107421875, 89.57264709472656, 84.41128540039062, 81.54764556884766, 78.13461303710938, 76.92436218261719, 1899.9320068359375, 1488.5167236328125, 1321.5631103515625, 896.7394409179688, 754.2968139648438, 735.7881469726562, 643.7062377929688, 590.9698486328125, 583.7056884765625, 496.6281433105469, 492.9908752441406, 394.121826171875, 381.4126281738281, 367.61553955078125, 335.98980712890625, 312.2541809082031, 300.5184020996094, 294.9544982910156, 273.788818359375, 268.9162902832031, 261.2664794921875, 243.67942810058594, 242.43704223632812, 232.61041259765625, 230.16339111328125, 208.3240203857422, 196.0733642578125, 194.5726318359375, 180.65740966796875, 178.91371154785156, 158.58653259277344, 3344.19775390625, 3074.34130859375, 2696.865234375, 725.1824340820312, 721.8323974609375, 512.2774658203125, 474.9289855957031, 423.31634521484375, 319.79876708984375, 315.0032958984375, 263.51239013671875, 260.4949645996094, 250.862060546875, 199.2947540283203, 182.07720947265625, 172.44537353515625, 166.2241668701172, 164.6021270751953, 147.03639221191406, 143.27439880371094, 142.48931884765625, 141.9394073486328, 134.5570526123047, 132.28602600097656, 130.05422973632812, 130.0564422607422, 128.058349609375, 127.72936248779297, 127.06765747070312, 119.86246490478516, 1831.8887939453125, 945.30078125, 849.8396606445312, 741.5181884765625, 688.8890380859375, 663.408203125, 609.7794189453125, 606.4251098632812, 552.2905883789062, 424.5218200683594, 402.1383972167969, 354.4701843261719, 350.5865173339844, 347.1321716308594, 327.59405517578125, 290.6492919921875, 285.7323303222656, 254.23947143554688, 247.70655822753906, 239.1046142578125, 232.119384765625, 225.70448303222656, 219.13314819335938, 216.6475067138672, 216.6052703857422, 214.02700805664062, 202.69049072265625, 195.1571502685547, 175.61643981933594, 172.63290405273438, 1788.604248046875, 1452.1466064453125, 1412.6944580078125, 747.4802856445312, 580.6121826171875, 560.5763549804688, 540.4056396484375, 475.741455078125, 451.4881286621094, 425.1765441894531, 418.8429870605469, 418.699951171875, 400.03106689453125, 346.2014465332031, 328.2117004394531, 256.691650390625, 251.0070343017578, 191.9666748046875, 172.95193481445312, 172.52195739746094, 171.3207244873047, 143.33811950683594, 138.92901611328125, 122.63314819335938, 115.76021575927734, 114.78165435791016, 107.87598419189453, 101.78925323486328, 96.36861419677734, 92.94170379638672, 2372.68115234375, 1720.9976806640625, 1467.078857421875, 1014.0643310546875, 1008.5234375, 835.4794311523438, 803.4675903320312, 334.2234191894531, 324.78717041015625, 265.1918029785156, 229.7969512939453, 209.25985717773438, 208.29351806640625, 189.86354064941406, 179.70452880859375, 165.98648071289062, 149.5857391357422, 136.23342895507812, 134.3959197998047, 128.0901641845703, 124.80062866210938, 123.98368072509766, 115.94471740722656, 112.23796081542969, 106.33465576171875, 105.15143585205078, 101.29415893554688, 99.32925415039062, 95.9650650024414, 83.36292266845703, 2282.21923828125, 1663.274169921875, 939.4622802734375, 587.2909545898438, 469.39453125, 461.3147277832031, 394.921142578125, 338.7441711425781, 330.61724853515625, 301.4434814453125, 284.9476623535156, 254.1978302001953, 246.13156127929688, 224.12637329101562, 221.70045471191406, 193.49356079101562, 176.20046997070312, 170.187255859375, 167.90231323242188, 160.46762084960938, 135.11151123046875, 134.59487915039062, 131.79551696777344, 126.15233612060547, 125.91265869140625, 121.46843719482422, 116.2979736328125, 115.29182434082031, 115.14002227783203, 112.83291625976562, 1546.289794921875, 1504.3792724609375, 1248.8162841796875, 961.662841796875, 896.2439575195312, 535.914306640625, 409.3056335449219, 397.2089538574219, 386.63824462890625, 353.4292907714844, 350.37408447265625, 319.7133483886719, 311.5202331542969, 297.3036193847656, 277.68890380859375, 243.70895385742188, 234.74517822265625, 233.60848999023438, 220.9648895263672, 202.1901092529297, 180.26736450195312, 173.20985412597656, 171.95404052734375, 145.74502563476562, 128.81640625, 118.94593811035156, 115.50991821289062, 101.45657348632812, 95.24282836914062, 92.8422622680664, 2348.1416015625, 1284.3358154296875, 1115.8525390625, 1005.9329833984375, 895.486083984375, 815.2171020507812, 493.8329772949219, 486.4920959472656, 402.7117919921875, 388.44830322265625, 373.5652770996094, 316.1627197265625, 292.1394348144531, 268.26031494140625, 234.03395080566406, 226.34056091308594, 223.3948516845703, 129.60362243652344, 116.33201599121094, 102.37644958496094, 98.00135040283203, 94.52562713623047, 93.81016540527344, 93.14832305908203, 90.79896545410156, 85.3620834350586, 84.08557891845703, 83.89116668701172, 83.47257995605469, 79.07083129882812, 2199.096923828125, 913.9814453125, 851.9012451171875, 716.9586791992188, 336.1104431152344, 309.72314453125, 289.24591064453125, 283.3190612792969, 283.0937194824219, 280.63189697265625, 247.37869262695312, 203.37039184570312, 201.56781005859375, 191.71798706054688, 184.84393310546875, 180.9168701171875, 170.51397705078125, 150.2069854736328, 147.2997283935547, 142.05355834960938, 138.47296142578125, 130.06719970703125, 129.4890899658203, 123.40222930908203, 123.03518676757812, 120.09737396240234, 96.98186492919922, 94.4489517211914, 84.74956512451172, 78.43036651611328, 2713.14501953125, 1357.7371826171875, 1265.073974609375, 1009.2598266601562, 626.6156616210938, 416.9228820800781, 266.4358825683594, 258.97186279296875, 235.01991271972656, 227.06837463378906, 205.9539031982422, 165.13267517089844, 160.9203338623047, 122.4656982421875, 122.20213317871094, 110.158447265625, 102.15342712402344, 92.31117248535156, 85.58671569824219, 82.33611297607422, 80.65003967285156, 78.88513946533203, 71.53885650634766, 65.25125122070312, 60.32527160644531, 58.597434997558594, 54.35397720336914, 47.52734375, 47.26856994628906, 47.18257141113281, 51.09698486328125, 781.4234008789062, 526.5094604492188, 443.4964904785156, 312.242919921875, 288.5242004394531, 288.1243591308594, 263.69024658203125, 231.73008728027344, 205.02908325195312, 194.1863555908203, 189.16102600097656, 181.05397033691406, 164.99119567871094, 157.2947998046875, 150.2912139892578, 144.88006591796875, 132.13754272460938, 126.38935089111328, 110.65524291992188, 104.75828552246094, 100.25802612304688, 94.98178100585938, 94.26144409179688, 91.9212417602539, 87.99027252197266, 78.9953842163086, 76.86918640136719, 74.86666107177734, 74.14508819580078, 72.55486297607422], \"loglift\": [30.0, 29.0, 28.0, 27.0, 26.0, 25.0, 24.0, 23.0, 22.0, 21.0, 20.0, 19.0, 18.0, 17.0, 16.0, 15.0, 14.0, 13.0, 12.0, 11.0, 10.0, 9.0, 8.0, 7.0, 6.0, 5.0, 4.0, 3.0, 2.0, 1.0, 2.4651999473571777, 2.4651999473571777, 2.4651999473571777, 2.4651999473571777, 2.465100049972534, 2.465100049972534, 2.4649999141693115, 2.4649999141693115, 2.4649999141693115, 2.4649999141693115, 2.4647998809814453, 2.4647998809814453, 2.4647998809814453, 2.4646999835968018, 2.4646999835968018, 2.4646999835968018, 2.464600086212158, 2.464600086212158, 2.464600086212158, 2.464600086212158, 2.464600086212158, 2.4644999504089355, 2.464400053024292, 2.464200019836426, 2.464099884033203, 2.464099884033203, 2.4639999866485596, 2.4639999866485596, 2.463900089263916, 2.463900089263916, 2.510499954223633, 2.510499954223633, 2.510499954223633, 2.510499954223633, 2.510499954223633, 2.5104000568389893, 2.5104000568389893, 2.5104000568389893, 2.5102999210357666, 2.5102999210357666, 2.5102999210357666, 2.5102999210357666, 2.510200023651123, 2.510200023651123, 2.510200023651123, 2.5100998878479004, 2.5100998878479004, 2.5099000930786133, 2.5099000930786133, 2.5099000930786133, 2.5097999572753906, 2.5097999572753906, 2.5097999572753906, 2.5097999572753906, 2.5095999240875244, 2.509500026702881, 2.509500026702881, 2.509399890899658, 2.5092999935150146, 2.509200096130371, 2.4999001026153564, 2.6454999446868896, 2.6454999446868896, 2.645400047302246, 2.645400047302246, 2.645400047302246, 2.645400047302246, 2.6452999114990234, 2.6452999114990234, 2.64520001411438, 2.64520001411438, 2.6451001167297363, 2.6451001167297363, 2.6449999809265137, 2.6449999809265137, 2.6449999809265137, 2.64490008354187, 2.64490008354187, 2.64490008354187, 2.6447999477386475, 2.644700050354004, 2.6445999145507812, 2.6445000171661377, 2.644399881362915, 2.644399881362915, 2.6442999839782715, 2.6442999839782715, 2.6440999507904053, 2.643899917602539, 2.643899917602539, 2.6438000202178955, 2.676300048828125, 2.6761999130249023, 2.6761999130249023, 2.6761999130249023, 2.6761999130249023, 2.6761999130249023, 2.676100015640259, 2.676100015640259, 2.676100015640259, 2.676100015640259, 2.6760001182556152, 2.6760001182556152, 2.6760001182556152, 2.6758999824523926, 2.6758999824523926, 2.675800085067749, 2.675800085067749, 2.675800085067749, 2.6756999492645264, 2.6756999492645264, 2.675600051879883, 2.675600051879883, 2.67549991607666, 2.6754000186920166, 2.6754000186920166, 2.675299882888794, 2.675299882888794, 2.6751999855041504, 2.675100088119507, 2.674999952316284, 2.6187000274658203, 2.77839994430542, 2.77839994430542, 2.77839994430542, 2.77839994430542, 2.7783000469207764, 2.7783000469207764, 2.7783000469207764, 2.7781999111175537, 2.77810001373291, 2.77810001373291, 2.77810001373291, 2.7780001163482666, 2.7780001163482666, 2.777899980545044, 2.7778000831604004, 2.7778000831604004, 2.777600049972534, 2.777600049972534, 2.777600049972534, 2.777600049972534, 2.777600049972534, 2.7774999141693115, 2.7774999141693115, 2.777400016784668, 2.777400016784668, 2.777400016784668, 2.777400016784668, 2.777400016784668, 2.7771999835968018, 2.777100086212158, 2.6442999839782715, 2.8454999923706055, 2.8454999923706055, 2.845400094985962, 2.845400094985962, 2.845400094985962, 2.845400094985962, 2.8452999591827393, 2.8452999591827393, 2.8452999591827393, 2.8452999591827393, 2.8452000617980957, 2.8452000617980957, 2.8452000617980957, 2.845099925994873, 2.845099925994873, 2.8450000286102295, 2.8450000286102295, 2.8447999954223633, 2.8447999954223633, 2.8447999954223633, 2.8447000980377197, 2.8447000980377197, 2.8445000648498535, 2.8445000648498535, 2.8445000648498535, 2.8443000316619873, 2.8443000316619873, 2.8443000316619873, 2.8443000316619873, 2.8443000316619873, 2.9140000343322754, 2.9140000343322754, 2.9140000343322754, 2.9138998985290527, 2.9138998985290527, 2.9138998985290527, 2.9138998985290527, 2.913800001144409, 2.913800001144409, 2.9137001037597656, 2.9137001037597656, 2.913599967956543, 2.913599967956543, 2.9135000705718994, 2.9135000705718994, 2.9135000705718994, 2.9135000705718994, 2.9135000705718994, 2.9133999347686768, 2.9133999347686768, 2.913300037384033, 2.913300037384033, 2.9131999015808105, 2.913100004196167, 2.9128000736236572, 2.9128000736236572, 2.9128000736236572, 2.9128000736236572, 2.9126999378204346, 2.9126999378204346, 2.952899932861328, 2.952899932861328, 2.952899932861328, 2.9528000354766846, 2.9528000354766846, 2.952699899673462, 2.952699899673462, 2.952699899673462, 2.952699899673462, 2.9526000022888184, 2.9526000022888184, 2.952500104904175, 2.952500104904175, 2.952399969100952, 2.9523000717163086, 2.9521000385284424, 2.9519999027252197, 2.9519999027252197, 2.9519999027252197, 2.95169997215271, 2.95169997215271, 2.9516000747680664, 2.9514999389648438, 2.951200008392334, 2.9511001110076904, 2.9509999752044678, 2.9509999752044678, 2.9509999752044678, 2.950900077819824, 2.9505999088287354, 2.998300075531006, 2.998300075531006, 2.998199939727783, 2.9981000423431396, 2.9981000423431396, 2.997999906539917, 2.997999906539917, 2.9979000091552734, 2.99780011177063, 2.99780011177063, 2.9974000453948975, 2.9974000453948975, 2.997299909591675, 2.997299909591675, 2.9971001148223877, 2.996999979019165, 2.9969000816345215, 2.996799945831299, 2.9965999126434326, 2.996500015258789, 2.996500015258789, 2.996299982070923, 2.996299982070923, 2.9960999488830566, 2.9958999156951904, 2.995800018310547, 2.995699882507324, 2.9955999851226807, 2.9953999519348145, 2.9953999519348145, 2.9902000427246094, 3.0211000442504883, 3.0211000442504883, 3.0209999084472656, 3.0209999084472656, 3.0209999084472656, 3.020900011062622, 3.020900011062622, 3.020900011062622, 3.0208001136779785, 3.0208001136779785, 3.020699977874756, 3.020699977874756, 3.020699977874756, 3.0206000804901123, 3.0206000804901123, 3.0204999446868896, 3.0204999446868896, 3.0204999446868896, 3.020400047302246, 3.020400047302246, 3.020400047302246, 3.0202999114990234, 3.0202999114990234, 3.0202999114990234, 3.02020001411438, 3.0201001167297363, 3.0201001167297363, 3.0199999809265137, 3.0199999809265137, 3.0197999477386475, 3.0392000675201416, 3.0392000675201416, 3.0392000675201416, 3.0388998985290527, 3.0388998985290527, 3.038800001144409, 3.038800001144409, 3.0387001037597656, 3.0385000705718994, 3.0385000705718994, 3.0383999347686768, 3.0383999347686768, 3.038300037384033, 3.038100004196167, 3.0380001068115234, 3.037899971008301, 3.037899971008301, 3.0378000736236572, 3.0376999378204346, 3.037600040435791, 3.037600040435791, 3.037600040435791, 3.0374999046325684, 3.0374999046325684, 3.0374999046325684, 3.0374999046325684, 3.037400007247925, 3.037400007247925, 3.037400007247925, 3.0373001098632812, 3.0857999324798584, 3.085700035095215, 3.085700035095215, 3.085599899291992, 3.085599899291992, 3.085599899291992, 3.085599899291992, 3.085599899291992, 3.0855000019073486, 3.085400104522705, 3.085400104522705, 3.0852999687194824, 3.0852999687194824, 3.0852999687194824, 3.085200071334839, 3.085099935531616, 3.085099935531616, 3.0850000381469727, 3.0850000381469727, 3.0850000381469727, 3.08489990234375, 3.08489990234375, 3.08489990234375, 3.08489990234375, 3.08489990234375, 3.08489990234375, 3.0848000049591064, 3.0848000049591064, 3.0845999717712402, 3.0845999717712402, 3.2309000492095947, 3.2309000492095947, 3.2309000492095947, 3.2307000160217285, 3.2307000160217285, 3.230600118637085, 3.230600118637085, 3.230600118637085, 3.2304999828338623, 3.2304999828338623, 3.2304999828338623, 3.2304999828338623, 3.2304999828338623, 3.2304000854492188, 3.2304000854492188, 3.2302000522613525, 3.23009991645813, 3.2298998832702637, 3.2297000885009766, 3.2297000885009766, 3.2297000885009766, 3.2295000553131104, 3.2293999195098877, 3.2291998863220215, 3.229099988937378, 3.229099988937378, 3.2288999557495117, 3.228800058364868, 3.2286999225616455, 3.228600025177002, 3.252700090408325, 3.252700090408325, 3.252700090408325, 3.2525999546051025, 3.2525999546051025, 3.2525999546051025, 3.2525999546051025, 3.25219988822937, 3.2520999908447266, 3.252000093460083, 3.251800060272217, 3.251699924468994, 3.251699924468994, 3.2516000270843506, 3.2516000270843506, 3.251499891281128, 3.251300096511841, 3.251199960708618, 3.2511000633239746, 3.2511000633239746, 3.250999927520752, 3.250999927520752, 3.2509000301361084, 3.2507998943328857, 3.250699996948242, 3.250699996948242, 3.2506000995635986, 3.250499963760376, 3.250499963760376, 3.2500998973846436, 3.2706000804901123, 3.2706000804901123, 3.2704999446868896, 3.2702999114990234, 3.27020001411438, 3.27020001411438, 3.27020001411438, 3.2701001167297363, 3.2699999809265137, 3.2699999809265137, 3.26990008354187, 3.2697999477386475, 3.2697999477386475, 3.269700050354004, 3.269700050354004, 3.2695999145507812, 3.269399881362915, 3.269399881362915, 3.269399881362915, 3.2692999839782715, 3.2690000534057617, 3.2690000534057617, 3.2690000534057617, 3.268899917602539, 3.268899917602539, 3.2688000202178955, 3.2688000202178955, 3.268699884414673, 3.268699884414673, 3.268699884414673, 3.2857000827789307, 3.2857000827789307, 3.2857000827789307, 3.285599946975708, 3.285599946975708, 3.285399913787842, 3.2853000164031982, 3.2853000164031982, 3.2853000164031982, 3.2852001190185547, 3.2852001190185547, 3.2852001190185547, 3.285099983215332, 3.285099983215332, 3.2850000858306885, 3.284899950027466, 3.284899950027466, 3.284899950027466, 3.2848000526428223, 3.2846999168395996, 3.284600019454956, 3.2844998836517334, 3.2844998836517334, 3.2843000888824463, 3.28410005569458, 3.283900022506714, 3.283900022506714, 3.283600091934204, 3.2834999561309814, 3.283400058746338, 3.3324999809265137, 3.33240008354187, 3.33240008354187, 3.33240008354187, 3.33240008354187, 3.3322999477386475, 3.3320999145507812, 3.3320999145507812, 3.3320000171661377, 3.3320000171661377, 3.3320000171661377, 3.331899881362915, 3.3317999839782715, 3.3317999839782715, 3.3315999507904053, 3.3315999507904053, 3.3315999507904053, 3.3308000564575195, 3.3306000232696533, 3.330399990081787, 3.3303000926971436, 3.330199956893921, 3.330199956893921, 3.3301000595092773, 3.3301000595092773, 3.329900026321411, 3.329900026321411, 3.329900026321411, 3.329900026321411, 3.329699993133545, 3.47160005569458, 3.471400022506714, 3.471400022506714, 3.471299886703491, 3.4709999561309814, 3.470900058746338, 3.470900058746338, 3.4707999229431152, 3.4707999229431152, 3.4707999229431152, 3.4707000255584717, 3.4704999923706055, 3.4704999923706055, 3.4704999923706055, 3.470400094985962, 3.470400094985962, 3.4702999591827393, 3.470099925994873, 3.470099925994873, 3.4700000286102295, 3.4700000286102295, 3.469899892807007, 3.469899892807007, 3.4697999954223633, 3.4697999954223633, 3.4697000980377197, 3.4693000316619873, 3.4691998958587646, 3.468899965286255, 3.4686999320983887, 3.5118000507354736, 3.511699914932251, 3.511699914932251, 3.511699914932251, 3.5114998817443848, 3.511399984359741, 3.510999917984009, 3.510999917984009, 3.5109000205993652, 3.5109000205993652, 3.5107998847961426, 3.510499954223633, 3.510499954223633, 3.509999990463257, 3.509999990463257, 3.5097999572753906, 3.509700059890747, 3.509399890899658, 3.509200096130371, 3.5090999603271484, 3.5090999603271484, 3.509000062942505, 3.508699893951416, 3.5083999633789062, 3.5081000328063965, 3.507999897003174, 3.507699966430664, 3.5071001052856445, 3.506999969482422, 3.506999969482422, 3.5064001083374023, 3.6882998943328857, 3.6881000995635986, 3.687999963760376, 3.6877999305725098, 3.6877999305725098, 3.6877999305725098, 3.687700033187866, 3.6875998973846436, 3.6874001026153564, 3.6874001026153564, 3.687299966812134, 3.687299966812134, 3.6872000694274902, 3.6870999336242676, 3.687000036239624, 3.687000036239624, 3.686800003051758, 3.6867001056671143, 3.686500072479248, 3.686300039291382, 3.686199903488159, 3.6861000061035156, 3.6861000061035156, 3.686000108718872, 3.6858999729156494, 3.6856000423431396, 3.685499906539917, 3.685499906539917, 3.6854000091552734, 3.6854000091552734], \"logprob\": [30.0, 29.0, 28.0, 27.0, 26.0, 25.0, 24.0, 23.0, 22.0, 21.0, 20.0, 19.0, 18.0, 17.0, 16.0, 15.0, 14.0, 13.0, 12.0, 11.0, 10.0, 9.0, 8.0, 7.0, 6.0, 5.0, 4.0, 3.0, 2.0, 1.0, -1.9122999906539917, -2.088200092315674, -2.4997000694274902, -2.5355000495910645, -3.0097999572753906, -3.425800085067749, -3.53410005569458, -3.6089999675750732, -3.6635000705718994, -3.8457000255584717, -4.159999847412109, -4.241399765014648, -4.3018999099731445, -4.382599830627441, -4.388999938964844, -4.490499973297119, -4.599899768829346, -4.646200180053711, -4.652200222015381, -4.6875, -4.70359992980957, -4.7845001220703125, -4.903900146484375, -5.08459997177124, -5.172699928283691, -5.223899841308594, -5.258900165557861, -5.309100151062012, -5.334199905395508, -5.366700172424316, -1.711400032043457, -2.4309000968933105, -2.652100086212158, -2.729099988937378, -2.85479998588562, -3.054800033569336, -3.215100049972534, -3.4363999366760254, -3.637399911880493, -3.8241000175476074, -3.8624000549316406, -3.8691999912261963, -4.022200107574463, -4.026800155639648, -4.165299892425537, -4.191100120544434, -4.354000091552734, -4.625400066375732, -4.696899890899658, -4.697999954223633, -4.763999938964844, -4.765500068664551, -4.769400119781494, -4.771900177001953, -4.983500003814697, -5.1016998291015625, -5.125500202178955, -5.180200099945068, -5.248799800872803, -5.323500156402588, -4.515900135040283, -1.4594999551773071, -2.415800094604492, -2.577899932861328, -2.769399881362915, -3.0968000888824463, -3.190999984741211, -3.3626999855041504, -3.5246999263763428, -3.88919997215271, -3.8996999263763428, -4.05810022354126, -4.15339994430542, -4.232999801635742, -4.360400199890137, -4.370699882507324, -4.474999904632568, -4.4791998863220215, -4.507500171661377, -4.600399971008301, -4.698400020599365, -4.808199882507324, -4.924499988555908, -5.008299827575684, -5.008999824523926, -5.112400054931641, -5.138400077819824, -5.229499816894531, -5.4070000648498535, -5.419000148773193, -5.44189977645874, -1.8271000385284424, -2.8747000694274902, -3.1115000247955322, -3.156100034713745, -3.209399938583374, -3.276099920272827, -3.4804000854492188, -3.6603000164031982, -3.6626999378204346, -3.6659998893737793, -3.8373000621795654, -3.919100046157837, -4.021699905395508, -4.041600227355957, -4.0457000732421875, -4.257599830627441, -4.3414998054504395, -4.377399921417236, -4.448699951171875, -4.494699954986572, -4.656400203704834, -4.668600082397461, -4.701200008392334, -4.795400142669678, -4.8846001625061035, -4.964700222015381, -4.974599838256836, -4.9918999671936035, -5.118800163269043, -5.160099983215332, -2.8025999069213867, -2.5373001098632812, -2.591900110244751, -2.6793999671936035, -2.7269999980926514, -3.0320000648498535, -3.0464000701904297, -3.1328999996185303, -3.3928000926971436, -3.7667999267578125, -3.796799898147583, -3.919100046157837, -4.000899791717529, -4.069200038909912, -4.250800132751465, -4.402299880981445, -4.417600154876709, -4.594799995422363, -4.6265997886657715, -4.65339994430542, -4.662300109863281, -4.677499771118164, -4.755199909210205, -4.786099910736084, -4.792799949645996, -4.838699817657471, -4.844399929046631, -4.845900058746338, -4.868500232696533, -4.98769998550415, -5.04580020904541, -3.8645999431610107, -2.11080002784729, -2.5583999156951904, -2.8893001079559326, -2.9642999172210693, -2.9663000106811523, -3.1730000972747803, -3.3671998977661133, -3.390500068664551, -3.4897000789642334, -3.516700029373169, -3.641400098800659, -3.6703999042510986, -3.8310999870300293, -3.8928000926971436, -4.012800216674805, -4.084700107574463, -4.085400104522705, -4.414899826049805, -4.465000152587891, -4.483699798583984, -4.522900104522705, -4.598599910736084, -4.754899978637695, -4.756700038909912, -4.783299922943115, -4.916500091552734, -4.93209981918335, -4.94320011138916, -4.946499824523926, -4.951200008392334, -2.5894999504089355, -2.608099937438965, -2.754300117492676, -3.017199993133545, -3.0606000423431396, -3.157099962234497, -3.2014999389648438, -3.303299903869629, -3.419600009918213, -3.7197000980377197, -3.7718000411987305, -3.862299919128418, -4.01800012588501, -4.06790018081665, -4.101200103759766, -4.151899814605713, -4.18310022354126, -4.19789981842041, -4.224899768829346, -4.282899856567383, -4.377999782562256, -4.421500205993652, -4.4857001304626465, -4.657700061798096, -4.8582000732421875, -4.887400150299072, -4.888700008392334, -4.9120001792907715, -4.928800106048584, -4.965199947357178, -1.969499945640564, -2.2499001026153564, -2.3254001140594482, -2.7302000522613525, -2.748699903488159, -3.3203999996185303, -3.4161999225616455, -3.5274999141693115, -3.5316998958587646, -3.732800006866455, -3.7978999614715576, -3.924999952316284, -3.984499931335449, -4.081699848175049, -4.26039981842041, -4.429500102996826, -4.583499908447266, -4.583899974822998, -4.625199794769287, -4.822700023651123, -4.850399971008301, -4.947000026702881, -4.976099967956543, -5.1732001304626465, -5.233699798583984, -5.263400077819824, -5.266900062561035, -5.277900218963623, -5.344200134277344, -5.468100070953369, -1.7085000276565552, -1.81659996509552, -2.6410000324249268, -2.9902000427246094, -3.2976999282836914, -3.3585000038146973, -3.3903000354766846, -3.632999897003174, -3.9335999488830566, -3.966900110244751, -4.4492998123168945, -4.480199813842773, -4.5503997802734375, -4.5655999183654785, -4.760499954223633, -4.836299896240234, -4.905099868774414, -4.969799995422363, -5.1031999588012695, -5.154900074005127, -5.161099910736084, -5.243100166320801, -5.243000030517578, -5.370500087738037, -5.4552998542785645, -5.478400230407715, -5.537899971008301, -5.572500228881836, -5.6153998374938965, -5.63100004196167, -2.4293999671936035, -2.6426000595092773, -2.7616000175476074, -3.149399995803833, -3.322499990463257, -3.3473000526428223, -3.481100082397461, -3.5666000843048096, -3.578900098800659, -3.740600109100342, -3.7479000091552734, -3.97189998626709, -4.004700183868408, -4.041500091552734, -4.1315999031066895, -4.204899787902832, -4.243199825286865, -4.261899948120117, -4.336400032043457, -4.354400157928467, -4.383299827575684, -4.453000068664551, -4.458199977874756, -4.499599933624268, -4.510200023651123, -4.610000133514404, -4.670599937438965, -4.678299903869629, -4.752600193023682, -4.76230001449585, -4.8831000328063965, -1.8150999546051025, -1.8991999626159668, -2.0302000045776367, -3.343899965286255, -3.3485000133514404, -3.6916000843048096, -3.7672998905181885, -3.8824000358581543, -4.163000106811523, -4.178100109100342, -4.356800079345703, -4.368299961090088, -4.406000137329102, -4.63640022277832, -4.726799964904785, -4.781300067901611, -4.817999839782715, -4.827899932861328, -4.940899848937988, -4.966800212860107, -4.972300052642822, -4.976200103759766, -5.029699802398682, -5.046800136566162, -5.063799858093262, -5.063799858093262, -5.0792999267578125, -5.081900119781494, -5.087100028991699, -5.145599842071533, -2.370300054550171, -3.0320000648498535, -3.1384999752044678, -3.274899959564209, -3.348599910736084, -3.3863000869750977, -3.470599889755249, -3.476099967956543, -3.5696001052856445, -3.832900047302246, -3.8870999813079834, -4.013299942016602, -4.024400234222412, -4.034299850463867, -4.092199802398682, -4.211999893188477, -4.229100227355957, -4.345900058746338, -4.372000217437744, -4.407400131225586, -4.436999797821045, -4.465099811553955, -4.494699954986572, -4.506100177764893, -4.50629997253418, -4.5183000564575195, -4.572800159454346, -4.6107001304626465, -4.716300010681152, -4.733500003814697, -2.2490999698638916, -2.4574999809265137, -2.485100030899048, -3.121799945831299, -3.374500036239624, -3.409600019454956, -3.4463000297546387, -3.5738000869750977, -3.6261000633239746, -3.686199903488159, -3.701200008392334, -3.7016000747680664, -3.7472000122070312, -3.8917999267578125, -3.945199966430664, -4.191199779510498, -4.213600158691406, -4.482100009918213, -4.58650016784668, -4.589000225067139, -4.5960001945495605, -4.774600028991699, -4.8059000968933105, -4.9309000968933105, -4.988699913024902, -4.997200012207031, -5.059299945831299, -5.117499828338623, -5.172399997711182, -5.208700180053711, -1.944700002670288, -2.265899896621704, -2.42549991607666, -2.7948999404907227, -2.8004000186920166, -2.9886999130249023, -3.0278000831604004, -3.9052999019622803, -3.9339001178741455, -4.1367998123168945, -4.280200004577637, -4.373899936676025, -4.378600120544434, -4.47130012512207, -4.526400089263916, -4.605899810791016, -4.710100173950195, -4.803699970245361, -4.817299842834473, -4.865499973297119, -4.891499996185303, -4.898099899291992, -4.9653000831604, -4.997799873352051, -5.052000045776367, -5.063199996948242, -5.100599765777588, -5.120299816131592, -5.154799938201904, -5.295899868011475, -1.9657000303268433, -2.282099962234497, -2.8533999919891357, -3.3234000205993652, -3.547600030899048, -3.5648999214172363, -3.720400094985962, -3.8738999366760254, -3.898200035095215, -3.9907000064849854, -4.046999931335449, -4.161300182342529, -4.193600177764893, -4.287300109863281, -4.2982001304626465, -4.4344000816345215, -4.528200149536133, -4.563000202178955, -4.576499938964844, -4.621799945831299, -4.794099807739258, -4.797900199890137, -4.818999767303467, -4.862800121307373, -4.864699840545654, -4.900700092315674, -4.944300174713135, -4.953000068664551, -4.954400062561035, -4.974599838256836, -2.339900016784668, -2.3673999309539795, -2.5536000728607178, -2.8148999214172363, -2.8854000568389893, -3.3998000621795654, -3.6695001125335693, -3.69950008392334, -3.7265000343322754, -3.8162999153137207, -3.825000047683716, -3.9166998863220215, -3.9426000118255615, -3.9893999099731445, -4.057700157165527, -4.188300132751465, -4.225800037384033, -4.2307000160217285, -4.286399841308594, -4.37529993057251, -4.490200042724609, -4.530200004577637, -4.537499904632568, -4.703100204467773, -4.8267998695373535, -4.906599998474121, -4.935999870300293, -5.065999984741211, -5.12939977645874, -5.154900074005127, -1.8753999471664429, -2.478800058364868, -2.619499921798706, -2.7232000827789307, -2.8394999504089355, -2.933500051498413, -3.4349000453948975, -3.449899911880493, -3.6389999389648438, -3.675100088119507, -3.714200019836426, -3.8810999393463135, -3.960200071334839, -4.045499801635742, -4.18209981918335, -4.21560001373291, -4.228700160980225, -4.773900032043457, -4.882199764251709, -5.010200023651123, -5.053999900817871, -5.090199947357178, -5.097799777984619, -5.104899883270264, -5.130499839782715, -5.192399978637695, -5.207499980926514, -5.209799766540527, -5.214900016784668, -5.269199848175049, -1.801900029182434, -2.680000066757202, -2.7504000663757324, -2.9228999614715576, -3.680799961090088, -3.762700080871582, -3.8310999870300293, -3.851799964904785, -3.85260009765625, -3.8613998889923096, -3.987600088119507, -4.183700084686279, -4.192599773406982, -4.242800235748291, -4.279300212860107, -4.30079984664917, -4.360099792480469, -4.487100124359131, -4.506700038909912, -4.543000221252441, -4.568600177764893, -4.63129997253418, -4.635799884796143, -4.684000015258789, -4.686999797821045, -4.71120023727417, -4.9253997802734375, -4.952000141143799, -5.0605998039245605, -5.138299942016602, -1.5515999794006348, -2.2439000606536865, -2.3145999908447266, -2.540600061416626, -3.017400026321411, -3.424999952316284, -3.8731000423431396, -3.9014999866485596, -3.9986000061035156, -4.033100128173828, -4.130799770355225, -4.3520002365112305, -4.377900123596191, -4.651400089263916, -4.653500080108643, -4.757500171661377, -4.833099842071533, -4.934700012207031, -5.010499954223633, -5.049300193786621, -5.070099830627441, -5.092299938201904, -5.190299987792969, -5.282599925994873, -5.361400127410889, -5.390600204467773, -5.466000080108643, -5.600900173187256, -5.606400012969971, -5.6082000732421875, -5.529099941253662, -2.6198999881744385, -3.014899969100952, -3.186500072479248, -3.5376999378204346, -3.6166999340057373, -3.6180999279022217, -3.7067999839782715, -3.8361001014709473, -3.958699941635132, -4.0131001472473145, -4.039299964904785, -4.083199977874756, -4.176199913024902, -4.223999977111816, -4.269700050354004, -4.306399822235107, -4.398600101470947, -4.44320011138916, -4.576399803161621, -4.631199836730957, -4.675300121307373, -4.729400157928467, -4.737100124359131, -4.76230001449585, -4.806099891662598, -4.9141998291015625, -4.9415998458862305, -4.968100070953369, -4.977799892425537, -4.999499797821045]}, \"token.table\": {\"Topic\": [12, 7, 14, 3, 19, 2, 2, 9, 6, 17, 12, 20, 5, 11, 7, 7, 3, 10, 12, 14, 17, 3, 1, 16, 1, 11, 1, 4, 20, 9, 12, 7, 3, 14, 2, 2, 3, 13, 13, 7, 16, 11, 19, 10, 12, 6, 11, 1, 18, 1, 16, 16, 19, 16, 14, 13, 6, 12, 5, 7, 2, 19, 13, 7, 7, 6, 19, 9, 4, 18, 4, 10, 1, 2, 4, 6, 17, 15, 15, 11, 17, 4, 14, 14, 14, 5, 16, 4, 6, 16, 5, 6, 3, 10, 8, 5, 3, 17, 19, 19, 6, 11, 9, 9, 10, 5, 17, 19, 20, 19, 1, 18, 11, 10, 15, 20, 9, 3, 14, 6, 6, 7, 3, 15, 20, 12, 12, 6, 17, 15, 10, 10, 6, 19, 17, 2, 9, 14, 5, 14, 14, 19, 20, 6, 1, 16, 19, 18, 18, 7, 13, 7, 2, 3, 19, 12, 7, 1, 9, 19, 7, 7, 8, 13, 14, 5, 8, 16, 8, 14, 8, 13, 20, 11, 16, 17, 10, 6, 6, 1, 13, 12, 17, 13, 15, 2, 4, 12, 6, 7, 18, 9, 1, 1, 8, 10, 4, 12, 13, 16, 12, 19, 8, 5, 17, 20, 17, 2, 5, 12, 11, 17, 16, 20, 18, 8, 2, 9, 20, 14, 9, 15, 1, 20, 4, 18, 18, 17, 5, 2, 2, 2, 3, 9, 15, 1, 6, 16, 13, 15, 17, 5, 1, 10, 11, 16, 6, 8, 7, 10, 8, 10, 14, 18, 14, 15, 4, 10, 4, 2, 15, 12, 13, 7, 8, 1, 20, 9, 19, 3, 1, 8, 19, 9, 1, 13, 15, 15, 16, 15, 18, 6, 8, 11, 16, 17, 10, 1, 4, 2, 1, 3, 10, 3, 20, 11, 7, 17, 6, 20, 15, 5, 4, 11, 9, 8, 4, 12, 8, 17, 14, 11, 12, 11, 11, 8, 6, 18, 16, 3, 5, 18, 1, 20, 12, 13, 20, 5, 2, 2, 11, 2, 8, 10, 17, 1, 19, 1, 7, 16, 13, 13, 8, 1, 20, 13, 20, 9, 9, 16, 8, 4, 11, 14, 12, 9, 11, 11, 15, 18, 12, 1, 4, 12, 3, 16, 8, 1, 18, 8, 1, 1, 4, 10, 19, 4, 13, 9, 4, 4, 15, 9, 12, 12, 13, 19, 2, 3, 17, 13, 18, 6, 12, 19, 18, 3, 20, 16, 16, 4, 5, 3, 11, 7, 20, 10, 7, 12, 17, 18, 18, 4, 6, 7, 2, 15, 6, 3, 9, 8, 13, 18, 20, 19, 12, 7, 6, 14, 9, 6, 3, 18, 7, 17, 2, 13, 20, 2, 19, 15, 8, 13, 9, 19, 5, 13, 4, 13, 3, 4, 11, 6, 16, 7, 17, 5, 9, 17, 10, 20, 14, 16, 16, 1, 4, 5, 18, 13, 10, 14, 5, 4, 12, 9, 19, 5, 2, 2, 13, 14, 12, 16, 5, 14, 15, 12, 11, 6, 10, 14, 3, 7, 3, 20, 13, 14, 18, 19, 7, 18, 15, 3, 17, 15, 14, 15, 9, 2, 7, 10, 2, 3, 11, 11, 5, 10, 18, 2, 20, 11, 15, 9, 11, 17, 15, 5, 5, 19, 10, 19, 10, 11, 18, 11, 2, 3, 8, 20, 8, 20, 6, 13, 3, 10, 18, 12, 3, 7, 20, 10, 5, 4, 3, 5, 15, 19, 5, 8, 10, 14, 6, 16, 9, 4, 1, 9, 8, 14, 15, 17, 11, 20, 5, 4, 8, 7, 9, 2, 2, 4, 11, 10, 5, 19, 16, 8, 16, 18, 17, 13, 3, 20, 17, 18, 1, 4, 15, 15, 16, 3, 5, 18, 17, 9, 19, 14, 15, 14, 8], \"Freq\": [0.9963338375091553, 1.0001550912857056, 1.0008835792541504, 0.9979557991027832, 0.996149480342865, 0.9984841346740723, 0.999634325504303, 0.9993430376052856, 0.999107837677002, 0.9988459348678589, 0.9977660775184631, 0.994078516960144, 0.8744854927062988, 0.12514998018741608, 1.000082015991211, 0.9994722008705139, 1.0000097751617432, 1.000030279159546, 0.9993011951446533, 1.0006552934646606, 0.9998549222946167, 0.9996169805526733, 0.9993621110916138, 0.9983299970626831, 0.9997040033340454, 0.9958600997924805, 1.000761866569519, 0.9998512268066406, 0.9988805055618286, 1.0024763345718384, 1.00093674659729, 0.9987460374832153, 0.9966487884521484, 1.0000814199447632, 0.9996482133865356, 1.0006226301193237, 1.0002278089523315, 0.9948370456695557, 0.9989456534385681, 1.0003695487976074, 0.9994739294052124, 0.994289755821228, 0.9966291189193726, 0.9996064901351929, 0.9983270168304443, 0.9976233839988708, 1.0004268884658813, 0.9974642395973206, 0.9988738298416138, 1.0000745058059692, 0.9992532730102539, 0.9970909953117371, 0.9924676418304443, 0.9990597367286682, 1.0004768371582031, 0.9994181394577026, 1.0002481937408447, 1.0001887083053589, 0.9994708299636841, 1.0002762079238892, 0.9991005659103394, 0.9991965293884277, 1.0005109310150146, 0.9996809959411621, 0.9986805319786072, 0.9991538524627686, 0.9889044165611267, 0.9936069250106812, 0.999668538570404, 1.0000202655792236, 0.9978636503219604, 0.9989181756973267, 0.9994195103645325, 0.9999071955680847, 1.0000509023666382, 0.9967716932296753, 0.9989822506904602, 0.9961435198783875, 1.0007551908493042, 0.9963419437408447, 0.9989885091781616, 0.9975025057792664, 0.9960795044898987, 0.998559832572937, 0.9985908269882202, 1.0006918907165527, 0.9983492493629456, 0.9984483122825623, 0.9999642372131348, 1.0014252662658691, 0.9999368190765381, 1.000828504562378, 0.9998413324356079, 0.9996908903121948, 0.999719500541687, 1.0011965036392212, 1.000064492225647, 0.9984076619148254, 0.9919400215148926, 0.995917797088623, 1.0001134872436523, 0.9980555176734924, 1.000856876373291, 1.0001399517059326, 0.9963014721870422, 1.0004193782806396, 0.9994571805000305, 0.9999415278434753, 0.9989590644836426, 0.9999153017997742, 0.9999805688858032, 0.9976651668548584, 0.9994675517082214, 0.9991859793663025, 1.000693678855896, 0.9980623126029968, 0.9982771873474121, 0.9973446726799011, 0.9968528151512146, 1.0001037120819092, 0.9979304671287537, 0.9971969723701477, 0.9969250559806824, 0.999504566192627, 0.9992220401763916, 0.9986735582351685, 0.9991947412490845, 1.0004856586456299, 1.0012973546981812, 0.9998351335525513, 0.9996258616447449, 0.9989028573036194, 1.0008494853973389, 0.9931448101997375, 0.99849534034729, 0.9979533553123474, 0.99744713306427, 0.9970960021018982, 0.998731791973114, 0.999936580657959, 0.9978798627853394, 0.9984980821609497, 1.0001918077468872, 1.0010868310928345, 1.000024437904358, 1.0004545450210571, 1.0001935958862305, 0.9967405200004578, 0.9962229132652283, 0.9985336065292358, 0.9961749315261841, 0.9990301728248596, 0.9996495246887207, 0.9996460676193237, 0.9996988773345947, 0.9993923902511597, 0.997991681098938, 1.0003867149353027, 0.9998297095298767, 0.9898044466972351, 1.0014879703521729, 1.000142216682434, 1.00229811668396, 0.9998990297317505, 0.9992767572402954, 0.9990504384040833, 1.0002421140670776, 0.9987884163856506, 0.9976611137390137, 0.9994809627532959, 0.9988062381744385, 0.9992493987083435, 0.9973823428153992, 0.9998889565467834, 0.9974504113197327, 0.9982324838638306, 0.9984446167945862, 0.99968022108078, 0.9994074702262878, 0.9999669194221497, 1.0002778768539429, 0.9972056746482849, 0.9990296363830566, 1.0011496543884277, 0.9987838864326477, 0.9997680187225342, 1.000835657119751, 0.9996558427810669, 0.9999169111251831, 0.9970146417617798, 0.9996713995933533, 0.992788553237915, 0.9972056746482849, 1.0001471042633057, 0.9997713565826416, 0.9996528625488281, 0.9999122023582458, 0.9970112442970276, 1.0006272792816162, 0.997768759727478, 1.000161051750183, 1.0001850128173828, 0.9996745586395264, 1.0000238418579102, 0.9999862313270569, 1.0017809867858887, 1.0001322031021118, 0.9996598362922668, 0.9999903440475464, 0.9996192455291748, 0.9997525215148926, 0.9997385144233704, 1.0002672672271729, 0.9995684027671814, 0.9997140169143677, 0.9996436238288879, 0.9999977350234985, 0.9943981170654297, 1.0000534057617188, 0.9997129440307617, 0.9951276183128357, 1.0014808177947998, 1.0000123977661133, 0.9972264170646667, 0.9995588064193726, 0.9945127367973328, 0.999955952167511, 0.9999396800994873, 0.9998177886009216, 0.999984085559845, 0.9992115497589111, 0.998466968536377, 0.007895019836723804, 0.9921407699584961, 0.9993177652359009, 1.000089406967163, 0.9977042078971863, 0.9989323019981384, 0.9976410865783691, 0.9995079040527344, 0.9953425526618958, 1.0000368356704712, 1.0002851486206055, 0.9992901086807251, 0.9999408721923828, 0.9989787340164185, 0.9994927644729614, 1.0000994205474854, 0.9986016750335693, 0.9995738863945007, 0.9953343272209167, 1.0007712841033936, 0.9999462366104126, 1.0008443593978882, 0.999331533908844, 0.9974492192268372, 0.9993578791618347, 1.0002878904342651, 0.9986767172813416, 0.9994372129440308, 0.9988622665405273, 1.000361680984497, 0.996974527835846, 0.9962827563285828, 0.9995238184928894, 0.9968264698982239, 0.9991487264633179, 0.9981009364128113, 0.9981019496917725, 0.9983925223350525, 0.9998152256011963, 0.9981526732444763, 0.9985616207122803, 1.0009832382202148, 0.9997540712356567, 1.0020713806152344, 0.9955801963806152, 1.0015515089035034, 0.9997277855873108, 0.9991746544837952, 0.9991497993469238, 0.9999179244041443, 0.9994902014732361, 0.999458372592926, 0.998516857624054, 0.9944393038749695, 1.0002905130386353, 1.0003314018249512, 0.9996515512466431, 0.9993250370025635, 0.99972003698349, 0.9992338418960571, 0.9982749819755554, 0.9989280700683594, 0.9997019171714783, 0.9999895095825195, 0.9999228715896606, 0.9994853138923645, 0.9989246129989624, 0.9981257915496826, 0.9992217421531677, 0.9995695948600769, 1.0001031160354614, 0.9965659379959106, 0.9975550174713135, 1.000335693359375, 0.9997720122337341, 0.9993847012519836, 1.0000215768814087, 1.0000666379928589, 0.9994261860847473, 0.9980999231338501, 0.9994738698005676, 0.9995443224906921, 1.0000499486923218, 0.9958593249320984, 0.9999566674232483, 1.0001870393753052, 1.0017493963241577, 1.0007954835891724, 0.9997535943984985, 0.9984691739082336, 0.9999282360076904, 1.0008277893066406, 0.9968787431716919, 1.000173568725586, 0.9980431795120239, 0.9991541504859924, 0.9992743134498596, 1.0003503561019897, 1.000232219696045, 0.9984001517295837, 0.9946717023849487, 0.9989800453186035, 0.9943385124206543, 0.997971773147583, 1.0004950761795044, 1.000614047050476, 0.9991738796234131, 0.9973952770233154, 0.9993574619293213, 0.9995084404945374, 0.9927606582641602, 1.0001065731048584, 1.0017017126083374, 1.002070426940918, 1.0008567571640015, 0.9998496174812317, 0.9997360110282898, 1.0010855197906494, 0.9997936487197876, 0.9991807341575623, 1.0006293058395386, 0.9982865452766418, 0.9965933561325073, 0.9997706413269043, 0.9978378415107727, 1.0011473894119263, 0.9974378347396851, 0.9996229410171509, 0.999681830406189, 0.9999822378158569, 0.9996357560157776, 0.9971476197242737, 0.9999593496322632, 0.9987853765487671, 0.9993894100189209, 0.9994081854820251, 0.9971830248832703, 0.9986423254013062, 0.9994768500328064, 1.000562071800232, 0.9958402514457703, 0.9987910389900208, 0.9990174770355225, 0.9988875389099121, 0.9995847940444946, 1.0000598430633545, 0.999187707901001, 1.0002243518829346, 1.0005818605422974, 0.9989144802093506, 0.9992989897727966, 0.9990580677986145, 0.9989188313484192, 1.0014560222625732, 0.9990541338920593, 1.0015591382980347, 0.9963228702545166, 0.9999223351478577, 1.000057578086853, 0.9975841045379639, 0.9981865882873535, 0.9961973428726196, 0.9965844750404358, 0.9999232292175293, 0.9968494176864624, 0.9955855011940002, 0.9993107318878174, 1.0001863241195679, 0.9979221224784851, 1.0000451803207397, 1.0001494884490967, 1.0001559257507324, 1.0023072957992554, 0.9972118139266968, 1.0003955364227295, 0.9995625019073486, 1.0020235776901245, 0.9991891980171204, 1.0029549598693848, 0.9985957741737366, 0.9994503855705261, 1.0000739097595215, 0.998505711555481, 1.0001996755599976, 0.9983869791030884, 0.9996913075447083, 0.9998247027397156, 0.9999376535415649, 1.000543475151062, 0.9969857335090637, 0.9990323781967163, 0.9961305260658264, 0.9998738169670105, 1.000014066696167, 0.9997674822807312, 1.00159752368927, 1.0016498565673828, 0.9999896883964539, 0.9988047480583191, 0.9981787204742432, 0.9962948560714722, 1.0003381967544556, 0.9996066689491272, 1.0003749132156372, 1.0001105070114136, 0.999966561794281, 0.9999465346336365, 0.9968405365943909, 0.9999491572380066, 1.0019022226333618, 0.9993763566017151, 0.993487536907196, 1.0007508993148804, 0.9983282685279846, 0.9992834329605103, 0.9989718794822693, 0.9981074929237366, 0.9987314939498901, 0.9995759725570679, 1.0000534057617188, 0.9954997897148132, 0.9993932843208313, 0.9984868168830872, 0.9991981983184814, 1.0004987716674805, 0.9991042017936707, 1.0001542568206787, 0.9994581937789917, 1.000001311302185, 1.0001471042633057, 1.0001589059829712, 0.05588401108980179, 0.9442289471626282, 0.999652624130249, 0.9952466487884521, 0.9999719858169556, 0.9973757863044739, 1.000364065170288, 0.9998981952667236, 0.9996022582054138, 0.9994856715202332, 0.9978050589561462, 0.9943181872367859, 1.0012308359146118, 0.9998074769973755, 0.9997922778129578, 0.9973055124282837, 1.0007187128067017, 0.9964898228645325, 1.0001598596572876, 0.9995549321174622, 0.9960842728614807, 0.9991595149040222, 0.9987708330154419, 0.9992526769638062, 0.9990565776824951, 0.9983255863189697, 0.9987581968307495, 1.0010457038879395, 1.0000672340393066, 0.9995872974395752, 0.9998581409454346, 0.9993549585342407, 1.000131607055664, 0.9962549805641174, 0.9997425675392151, 0.998047411441803, 1.0004594326019287, 0.9970858693122864, 0.9988998174667358, 0.99714595079422, 0.9981330633163452, 0.9956464767456055, 0.9994654655456543, 1.000302791595459, 0.9992303848266602, 0.9987919330596924, 0.9981973171234131, 0.9983068108558655, 0.9995912313461304, 1.0005499124526978, 0.9997484087944031, 0.9998350739479065, 1.0004823207855225, 0.9977483153343201, 1.0002985000610352, 0.9969194531440735, 0.9995830059051514, 0.998528778553009, 0.997311532497406, 0.9986514449119568, 0.9997336864471436, 0.9994361400604248, 0.9996851086616516, 1.000069499015808, 1.0002238750457764, 0.9970569610595703, 0.9983459115028381, 1.0000510215759277, 0.9974173307418823, 0.9996689558029175, 0.9980847835540771, 0.9894714951515198, 0.010388151742517948, 0.9982629418373108, 0.9981831908226013, 0.9991540312767029, 0.9990403056144714, 1.0000611543655396, 0.9996621608734131, 0.9999080300331116, 0.9963610172271729, 0.9986220002174377, 1.0000606775283813, 0.9992750287055969, 0.9994814991950989, 0.9974263906478882, 1.0000184774398804, 0.9996611475944519, 0.9987735748291016, 0.9979095458984375, 0.9971225261688232, 0.9999039173126221, 0.9946080446243286, 0.9988998174667358, 0.9970218539237976, 1.000311255455017, 0.9994180202484131, 1.000518560409546, 0.9975191354751587, 0.9990112781524658, 1.0001808404922485, 0.9968242645263672, 0.9932843446731567, 1.0000752210617065, 0.9970541000366211, 0.9988996982574463, 0.9957582354545593, 0.9995660185813904, 0.9923524856567383, 0.9988822937011719, 1.0004724264144897, 0.9998259544372559, 0.9997474551200867, 1.001326322555542, 0.9995390176773071, 1.0000989437103271, 0.9987569451332092, 0.9985210299491882, 0.9987351894378662, 0.9969543218612671, 1.0001085996627808, 0.9998126029968262, 0.999792218208313, 0.9997478723526001, 1.0001158714294434, 1.0022140741348267, 0.9981279373168945, 0.999884843826294, 1.0000584125518799, 0.9995226860046387, 0.9994833469390869, 0.9994610548019409, 1.001183032989502, 0.9987924695014954, 0.9974688291549683, 1.0016989707946777, 1.000084638595581, 0.9992117285728455, 0.9979651570320129, 0.9982324838638306, 0.999862551689148, 0.9983640313148499, 0.9992960691452026, 1.0001837015151978, 0.9966852068901062, 0.9983546733856201], \"Term\": [\"ability\", \"able\", \"absolutely\", \"access\", \"accessible\", \"actual\", \"actually\", \"add\", \"adjust\", \"adjustable\", \"adjustment\", \"affordable\", \"allow\", \"allow\", \"almost\", \"already\", \"also\", \"always\", \"amazing\", \"amazon\", \"amount\", \"android\", \"annoying\", \"anyone\", \"anything\", \"anyway\", \"anywhere\", \"app\", \"application\", \"appreciate\", \"area\", \"around\", \"arrive\", \"ask\", \"assemble\", \"assembly\", \"attach\", \"attempt\", \"available\", \"away\", \"awesome\", \"awhile\", \"awkward\", \"back\", \"bad\", \"base\", \"basic\", \"basically\", \"battery\", \"be\", \"become\", \"begin\", \"behind\", \"believe\", \"best\", \"better\", \"big\", \"bit\", \"bluetooth\", \"body\", \"box\", \"boy\", \"brand\", \"break\", \"bring\", \"build\", \"building\", \"bunch\", \"button\", \"buy\", \"call\", \"camera\", \"can\", \"cardboard\", \"case\", \"center\", \"chair\", \"chance\", \"change\", \"charge\", \"cheap\", \"check\", \"child\", \"choice\", \"choose\", \"clean\", \"clear\", \"click\", \"close\", \"code\", \"come\", \"comfort\", \"comfortable\", \"compare\", \"compatible\", \"completely\", \"con\", \"concept\", \"concern\", \"confused\", \"connect\", \"consider\", \"consumer\", \"content\", \"continue\", \"control\", \"controller\", \"cool\", \"correct\", \"cost\", \"could\", \"couple\", \"course\", \"cover\", \"crazy\", \"create\", \"customer\", \"cut\", \"daughter\", \"day\", \"deal\", \"decent\", \"decide\", \"definitely\", \"degree\", \"demo\", \"depend\", \"design\", \"developer\", \"device\", \"difference\", \"different\", \"difficult\", \"dinosaur\", \"diopter\", \"direction\", \"disclaimer\", \"disclosure\", \"discomfort\", \"discount\", \"discounted_rate\", \"dispatch\", \"display\", \"distance\", \"do\", \"door_effect\", \"download\", \"drain\", \"drive\", \"due\", \"early\", \"easily\", \"easy\", \"edge\", \"effect\", \"else\", \"end\", \"enjoy\", \"enough\", \"enter\", \"entire\", \"especially\", \"evaluation\", \"even\", \"ever\", \"everyone\", \"everything\", \"exactly\", \"excellent\", \"exchange\", \"excited\", \"expect\", \"expensive\", \"experience\", \"explain\", \"explore\", \"extremely\", \"eye\", \"face\", \"fact\", \"fairly\", \"fall\", \"family\", \"fan\", \"fantastic\", \"far\", \"favorite\", \"feature\", \"feel\", \"field\", \"figure\", \"final\", \"finally\", \"find\", \"fine\", \"first\", \"fit\", \"fix\", \"fly\", \"foam\", \"focus\", \"fold\", \"follow\", \"forehead\", \"forget\", \"forward\", \"free\", \"friend\", \"front\", \"full\", \"fully\", \"fun\", \"function\", \"future\", \"gadget\", \"galaxy\", \"game\", \"gamepad\", \"gaming\", \"gear\", \"general\", \"generation\", \"get\", \"giant\", \"give\", \"glad\", \"glass\", \"go\", \"goggle\", \"good\", \"google\", \"graphic\", \"great\", \"great\", \"hand\", \"happen\", \"happy\", \"hard\", \"hardware\", \"have\", \"hd\", \"head\", \"headband\", \"headphone\", \"headset\", \"hear\", \"heavy\", \"help\", \"high\", \"hold\", \"hole\", \"home\", \"honest\", \"honestly\", \"hootoo\", \"hope\", \"hour\", \"however\", \"huge\", \"idea\", \"ill\", \"image\", \"imagine\", \"immerse\", \"immersive\", \"impressed\", \"impressive\", \"improve\", \"impulse\", \"inch\", \"include\", \"individual\", \"influence\", \"information\", \"insert\", \"instal\", \"install\", \"instead\", \"instruction\", \"introduce\", \"ipd\", \"iphone\", \"issue\", \"item\", \"job\", \"jump\", \"keep\", \"kid\", \"kind\", \"kit\", \"know\", \"large\", \"last\", \"launch\", \"learn\", \"leave\", \"lens\", \"less\", \"let\", \"level\", \"life\", \"light\", \"like\", \"likely\", \"limited\", \"line\", \"little\", \"long\", \"look\", \"lot\", \"love\", \"low\", \"magnet\", \"main\", \"make\", \"manufacturer\", \"many\", \"mark\", \"match\", \"material\", \"may\", \"maybe\", \"mean\", \"medium\", \"mention\", \"menu\", \"milk\", \"mind\", \"mine\", \"minkanak\", \"minute\", \"mm\", \"mode\", \"model\", \"moga\", \"money\", \"month\", \"motion_sickness\", \"move\", \"movement\", \"movie\", \"much\", \"multiple\", \"must\", \"name\", \"naturally\", \"ne\", \"neat\", \"need\", \"netflix\", \"never\", \"new\", \"next\", \"nexus\", \"nfc\", \"nice\", \"nicely\", \"night\", \"non\", \"normally\", \"nose\", \"not\", \"note\", \"nothing\", \"notice\", \"number\", \"obviously\", \"oculus\", \"offer\", \"oil\", \"old\", \"one\", \"online\", \"open\", \"opinion\", \"option\", \"order\", \"other\", \"overall\", \"overheat\", \"own\", \"package\", \"pad\", \"padding\", \"pair\", \"pan\", \"part\", \"particular\", \"pass\", \"pay\", \"people\", \"perfect\", \"perfectly\", \"personal\", \"personally\", \"phone\", \"photo\", \"pick\", \"picture\", \"piece\", \"pixel\", \"place\", \"plastic\", \"play\", \"player\", \"plug\", \"point\", \"pop\", \"portable\", \"power\", \"present\", \"press\", \"pretty\", \"price\", \"prior\", \"pro\", \"probably\", \"problem\", \"product\", \"properly\", \"provide\", \"pull\", \"purchase\", \"purchasing\", \"push\", \"put\", \"quality\", \"question\", \"quick\", \"quickly\", \"quite\", \"range\", \"rating\", \"read\", \"ready\", \"real\", \"realistic\", \"reality\", \"really\", \"reason\", \"receive\", \"recognize\", \"recommend\", \"remain\", \"remote\", \"remove\", \"require\", \"resolution\", \"responsive\", \"rest\", \"return\", \"review\", \"ride\", \"right\", \"roller_coaster\", \"room\", \"rubber_band\", \"ruin\", \"run\", \"s\", \"samsung\", \"say\", \"scan\", \"screen\", \"screen\", \"search\", \"seat\", \"second\", \"secure\", \"security\", \"see\", \"seem\", \"select\", \"seller\", \"sensor\", \"separate\", \"set\", \"setup\", \"several\", \"shoot\", \"short\", \"show\", \"side\", \"similar\", \"simple\", \"simply\", \"sit\", \"size\", \"slide\", \"slightly\", \"slot\", \"small\", \"smart\", \"smartphone\", \"software\", \"solution\", \"someone\", \"something\", \"sometimes\", \"son\", \"soon\", \"space\", \"specific\", \"spend\", \"stage\", \"stand\", \"star\", \"start\", \"stay\", \"step\", \"stick\", \"still\", \"stop\", \"store\", \"strap\", \"strong\", \"stuff\", \"sturdy\", \"style\", \"suggest\", \"super\", \"support\", \"suppose\", \"sure\", \"system\", \"tab\", \"take\", \"talk\", \"tape\", \"tech\", \"technology\", \"telephone\", \"tell\", \"tend\", \"test\", \"test\", \"thank\", \"that\", \"theater\", \"there\", \"thick\", \"thing\", \"think\", \"thought\", \"tight\", \"time\", \"tip\", \"together\", \"ton\", \"top\", \"totally\", \"touch\", \"tray\", \"truly\", \"try\", \"tune\", \"turn\", \"tv\", \"type\", \"unbiased\", \"uncomfortable\", \"understand\", \"unfortunately\", \"unit\", \"update\", \"usage\", \"use\", \"useful\", \"user\", \"usually\", \"utilize\", \"various\", \"velcro\", \"version\", \"video\", \"view\", \"view_master\", \"viewer\", \"virtual\", \"vision\", \"vive\", \"vr\", \"wait\", \"walk\", \"want\", \"watch\", \"way\", \"wear\", \"website\", \"weight\", \"well\", \"what\", \"whole\", \"wide\", \"will\", \"wish\", \"wonder\", \"wonderful\", \"word\", \"work\", \"world\", \"worry\", \"worth\", \"would\", \"year\", \"year_old\", \"yet\", \"young\", \"youtube\"]}, \"R\": 30, \"lambda.step\": 0.01, \"plot.opts\": {\"xlab\": \"PC1\", \"ylab\": \"PC2\"}, \"topic.order\": [16, 9, 7, 14, 3, 10, 17, 15, 2, 1, 8, 5, 12, 11, 6, 18, 20, 19, 4, 13]};\n",
              "\n",
              "function LDAvis_load_lib(url, callback){\n",
              "  var s = document.createElement('script');\n",
              "  s.src = url;\n",
              "  s.async = true;\n",
              "  s.onreadystatechange = s.onload = callback;\n",
              "  s.onerror = function(){console.warn(\"failed to load library \" + url);};\n",
              "  document.getElementsByTagName(\"head\")[0].appendChild(s);\n",
              "}\n",
              "\n",
              "if(typeof(LDAvis) !== \"undefined\"){\n",
              "   // already loaded: just create the visualization\n",
              "   !function(LDAvis){\n",
              "       new LDAvis(\"#\" + \"ldavis_el1941397070541280085904134017\", ldavis_el1941397070541280085904134017_data);\n",
              "   }(LDAvis);\n",
              "}else if(typeof define === \"function\" && define.amd){\n",
              "   // require.js is available: use it to load d3/LDAvis\n",
              "   require.config({paths: {d3: \"https://cdnjs.cloudflare.com/ajax/libs/d3/3.5.5/d3.min\"}});\n",
              "   require([\"d3\"], function(d3){\n",
              "      window.d3 = d3;\n",
              "      LDAvis_load_lib(\"https://cdn.rawgit.com/bmabey/pyLDAvis/files/ldavis.v1.0.0.js\", function(){\n",
              "        new LDAvis(\"#\" + \"ldavis_el1941397070541280085904134017\", ldavis_el1941397070541280085904134017_data);\n",
              "      });\n",
              "    });\n",
              "}else{\n",
              "    // require.js not available: dynamically load d3 & LDAvis\n",
              "    LDAvis_load_lib(\"https://cdnjs.cloudflare.com/ajax/libs/d3/3.5.5/d3.min.js\", function(){\n",
              "         LDAvis_load_lib(\"https://cdn.rawgit.com/bmabey/pyLDAvis/files/ldavis.v1.0.0.js\", function(){\n",
              "                 new LDAvis(\"#\" + \"ldavis_el1941397070541280085904134017\", ldavis_el1941397070541280085904134017_data);\n",
              "            })\n",
              "         });\n",
              "}\n",
              "</script>"
            ],
            "text/plain": [
              "PreparedData(topic_coordinates=           Freq  cluster  topics         x         y\n",
              "topic                                               \n",
              "15     8.498781        1       1 -0.286009  0.192516\n",
              "8      8.122121        1       2 -0.149974 -0.364086\n",
              "6      7.096648        1       3 -0.133770 -0.117643\n",
              "13     6.881136        1       4 -0.231093  0.173251\n",
              "2      6.213256        1       5 -0.012689 -0.081254\n",
              "9      5.810004        1       6 -0.012537 -0.020588\n",
              "16     5.425231        1       7  0.015402 -0.015765\n",
              "14     5.218257        1       8  0.020304 -0.001898\n",
              "1      4.986952        1       9  0.007595 -0.030726\n",
              "0      4.873808        1      10  0.031630 -0.002317\n",
              "7      4.787095        1      11  0.034903 -0.035589\n",
              "4      4.568716        1      12  0.044217  0.015692\n",
              "11     3.951574        1      13  0.066351  0.030868\n",
              "10     3.866448        1      14  0.074860  0.028845\n",
              "5      3.797835        1      15  0.079099  0.036593\n",
              "17     3.740793        1      16  0.070568  0.030038\n",
              "19     3.569980        1      17  0.080214  0.041628\n",
              "18     3.106558        1      18  0.091846  0.041905\n",
              "3      2.983991        1      19  0.097099  0.040228\n",
              "12     2.500816        1      20  0.111984  0.038301, topic_info=     Category         Freq         Term        Total  loglift  logprob\n",
              "term                                                                  \n",
              "99    Default  7074.000000        phone  7074.000000  30.0000  30.0000\n",
              "219   Default  6293.000000    cardboard  6293.000000  29.0000  29.0000\n",
              "83    Default  5387.000000          not  5387.000000  28.0000  28.0000\n",
              "35    Default  4749.000000          app  4749.000000  27.0000  27.0000\n",
              "11    Default  3875.000000      product  3875.000000  26.0000  26.0000\n",
              "189   Default  4517.000000          get  4517.000000  25.0000  25.0000\n",
              "447   Default  3478.000000        would  3478.000000  24.0000  24.0000\n",
              "448   Default  3344.000000      headset  3344.000000  23.0000  23.0000\n",
              "39    Default  2713.000000       really  2713.000000  22.0000  22.0000\n",
              "15    Default  3074.000000   experience  3074.000000  21.0000  21.0000\n",
              "280   Default  3123.000000          use  3123.000000  20.0000  20.0000\n",
              "111   Default  3019.000000       review  3019.000000  19.0000  19.0000\n",
              "27    Default  2696.000000         make  2696.000000  18.0000  18.0000\n",
              "581   Default  2348.000000           go  2348.000000  17.0000  17.0000\n",
              "227   Default  2372.000000         gear  2372.000000  16.0000  16.0000\n",
              "16    Default  3065.000000         good  3065.000000  15.0000  15.0000\n",
              "61    Default  2199.000000        glass  2199.000000  14.0000  14.0000\n",
              "418   Default  2282.000000          try  2282.000000  13.0000  13.0000\n",
              "82    Default  2993.000000           do  2993.000000  12.0000  12.0000\n",
              "1     Default  2718.000000         work  2718.000000  11.0000  11.0000\n",
              "37    Default  2888.000000           be  2888.000000  10.0000  10.0000\n",
              "65    Default  2359.000000         look  2359.000000   9.0000   9.0000\n",
              "256   Default  2188.000000        video  2188.000000   8.0000   8.0000\n",
              "268   Default  2457.000000         game  2457.000000   7.0000   7.0000\n",
              "330   Default  2311.000000         also  2311.000000   6.0000   6.0000\n",
              "226   Default  2108.000000          see  2108.000000   5.0000   5.0000\n",
              "64    Default  1788.000000        thing  1788.000000   4.0000   4.0000\n",
              "632   Default  2274.000000      virtual  2274.000000   3.0000   3.0000\n",
              "203   Default  1831.000000         time  1831.000000   2.0000   2.0000\n",
              "13    Default  1899.000000        great  1899.000000   1.0000   1.0000\n",
              "...       ...          ...          ...          ...      ...      ...\n",
              "340   Topic20   781.192139            s   781.423401   3.6883  -2.6199\n",
              "14    Topic20   526.278198     purchase   526.509460   3.6881  -3.0149\n",
              "490   Topic20   443.265228  application   443.496490   3.6880  -3.1865\n",
              "1189  Topic20   312.011658       degree   312.242920   3.6878  -3.5377\n",
              "341   Topic20   288.292938         that   288.524200   3.6878  -3.6167\n",
              "98    Topic20   287.893097       future   288.124359   3.6878  -3.6181\n",
              "193   Topic20   263.458984    expensive   263.690247   3.6877  -3.7068\n",
              "1320  Topic20   231.498840        photo   231.730087   3.6876  -3.8361\n",
              "342   Topic20   204.797836   smartphone   205.029083   3.6874  -3.9587\n",
              "589   Topic20   193.955109        there   194.186356   3.6874  -4.0131\n",
              "829   Topic20   188.929779   impressive   189.161026   3.6873  -4.0393\n",
              "895   Topic20   180.822723        learn   181.053970   3.6873  -4.0832\n",
              "615   Topic20   164.759949       gaming   164.991196   3.6872  -4.1762\n",
              "368   Topic20   157.063553        level   157.294800   3.6871  -4.2240\n",
              "607   Topic20   150.059967       create   150.291214   3.6870  -4.2697\n",
              "616   Topic20   144.648819       medium   144.880066   3.6870  -4.3064\n",
              "491   Topic20   131.906296      correct   132.137543   3.6868  -4.3986\n",
              "1037  Topic20   126.158104        style   126.389351   3.6867  -4.4432\n",
              "484   Topic20   110.423996   affordable   110.655243   3.6865  -4.5764\n",
              "1672  Topic20   104.527039       player   104.758286   3.6863  -4.6312\n",
              "608   Topic20   100.026779          ton   100.258026   3.6862  -4.6753\n",
              "492   Topic20    94.750534      display    94.981781   3.6861  -4.7294\n",
              "2335  Topic20    94.030197        giant    94.261444   3.6861  -4.7371\n",
              "618   Topic20    91.689995           ne    91.921242   3.6860  -4.7623\n",
              "552   Topic20    87.759026    realistic    87.990273   3.6859  -4.8061\n",
              "1701  Topic20    78.764137         what    78.995384   3.6856  -4.9142\n",
              "2281  Topic20    76.637939         name    76.869186   3.6855  -4.9416\n",
              "791   Topic20    74.635414      forward    74.866661   3.6855  -4.9681\n",
              "2985  Topic20    73.913841         milk    74.145088   3.6854  -4.9778\n",
              "1684  Topic20    72.323616      various    72.554863   3.6854  -4.9995\n",
              "\n",
              "[635 rows x 6 columns], token_table=      Topic      Freq         Term\n",
              "term                              \n",
              "1753     12  0.996334      ability\n",
              "713       7  1.000155         able\n",
              "79       14  1.000884   absolutely\n",
              "1165      3  0.997956       access\n",
              "2052     19  0.996149   accessible\n",
              "2695      2  0.998484       actual\n",
              "636       2  0.999634     actually\n",
              "425       9  0.999343          add\n",
              "803       6  0.999108       adjust\n",
              "531      17  0.998846   adjustable\n",
              "157      12  0.997766   adjustment\n",
              "484      20  0.994079   affordable\n",
              "1670      5  0.874485        allow\n",
              "1670     11  0.125150        allow\n",
              "181       7  1.000082       almost\n",
              "1031      7  0.999472      already\n",
              "330       3  1.000010         also\n",
              "19       10  1.000030       always\n",
              "23       12  0.999301      amazing\n",
              "676      14  1.000655       amazon\n",
              "1243     17  0.999855       amount\n",
              "513       3  0.999617      android\n",
              "585       1  0.999362     annoying\n",
              "362      16  0.998330       anyone\n",
              "688       1  0.999704     anything\n",
              "721      11  0.995860       anyway\n",
              "2285      1  1.000762     anywhere\n",
              "35        4  0.999851          app\n",
              "490      20  0.998881  application\n",
              "1900      9  1.002476   appreciate\n",
              "...     ...       ...          ...\n",
              "716       4  0.998757       vision\n",
              "1441     11  0.998521         vive\n",
              "625      10  0.998735           vr\n",
              "658       5  0.996954         wait\n",
              "1398     19  1.000109         walk\n",
              "68       16  0.999813         want\n",
              "257       8  0.999792        watch\n",
              "30       16  0.999748          way\n",
              "414      18  1.000116         wear\n",
              "1945     17  1.002214      website\n",
              "1085     13  0.998128       weight\n",
              "74        3  0.999885         well\n",
              "1701     20  1.000058         what\n",
              "234      17  0.999523        whole\n",
              "1459     18  0.999483         wide\n",
              "542       1  0.999461         will\n",
              "130       4  1.001183         wish\n",
              "1234     15  0.998792       wonder\n",
              "708      15  0.997469    wonderful\n",
              "687      16  1.001699         word\n",
              "1         3  1.000085         work\n",
              "195       5  0.999212        world\n",
              "1519     18  0.997965        worry\n",
              "63       17  0.998232        worth\n",
              "447       9  0.999863        would\n",
              "407      19  0.998364         year\n",
              "606      14  0.999296     year_old\n",
              "179      15  1.000184          yet\n",
              "627      14  0.996685        young\n",
              "364       8  0.998355      youtube\n",
              "\n",
              "[609 rows x 3 columns], R=30, lambda_step=0.01, plot_opts={'xlab': 'PC1', 'ylab': 'PC2'}, topic_order=[16, 9, 7, 14, 3, 10, 17, 15, 2, 1, 8, 5, 12, 11, 6, 18, 20, 19, 4, 13])"
            ]
          },
          "metadata": {
            "tags": []
          },
          "execution_count": 24
        }
      ]
    }
  ]
}